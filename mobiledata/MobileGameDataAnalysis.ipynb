{
 "cells": [
  {
   "cell_type": "markdown",
   "metadata": {},
   "source": [
    "\n",
    "# Exploring game mobile app data"
   ]
  },
  {
   "cell_type": "markdown",
   "metadata": {},
   "source": [
    "**Задачи:**\n",
    "1. В первую очередь, его интересует показатель retention. Напишите функцию для его подсчета.\n",
    "2. Помимо этого, в компании провели A/B тестирование наборов акционных предложений. На основе имеющихся данных определите, какой набор можно считать лучшим и на основе каких метрик стоит принять правильное решение.  \n",
    "3. Предложите метрики для оценки результатов последнего прошедшего тематического события в игре.  "
   ]
  },
  {
   "cell_type": "markdown",
   "metadata": {},
   "source": [
    "**Data provided:** \n",
    "* `problem1-reg_data.csv` - data on the time of registration\n",
    "* `problem1-auth_data.csv` - data on the time users entered the game \n",
    "* `problem2.csv` – A/B test results"
   ]
  },
  {
   "cell_type": "markdown",
   "metadata": {},
   "source": [
    "## Stages of project execution"
   ]
  },
  {
   "cell_type": "markdown",
   "metadata": {},
   "source": [
    "1. [Показатель Retention](#1.-Показатель-Retention)  \n",
    "   - [1.1 Задача](#1.1-Задача)\n",
    "   - [1.2 Загрузка данных](#1.2-Загрузка-данных)\n",
    "   - [1.3 Предобработка данных](#1.3-Предобработка-данных)\n",
    "   - [1.4 Расчет Retention](#1.4-Расчет-Retention)\n",
    "   - [1.5 Результаты](#1.5-Результаты)\n",
    "2. [A/B тестирование](#2.-A/B-тестирование)\n",
    "   - [2.1 Задача](#2.1-Задача)\n",
    "   - [2.2 Загрузка данных](#2.2-Загрузка-данных)\n",
    "   - [2.3 Предобработка данных](#2.3-Предобработка-данных)\n",
    "   - [2.4 Проверка гипотез](#2.4-Проверка-гипотез)\n",
    "   - [2.5 Результаты](#2.5-Результаты)\n",
    "3. [Набор метрик для оценки результатов](#3.-Набор-метрик-для-оценки-результатов)\n",
    "   - [3.1 Задача](#3.1-Задача)\n",
    "   - [3.2 Набор метрик](#3.2-Набор-метрик)\n",
    "   - [3.3 Результаты](#3.3-Результаты)\n",
    "4. [Результаты исследования](#4.-Результаты-исследования)"
   ]
  },
  {
   "cell_type": "code",
   "execution_count": 1,
   "metadata": {},
   "outputs": [],
   "source": [
    "# import libraries\n",
    "import pandas as pd\n",
    "import seaborn as sns\n",
    "import matplotlib.pyplot as plt\n",
    "import numpy as np\n",
    "from scipy import stats as st\n",
    "from statsmodels.stats.proportion import proportions_ztest\n",
    "from tqdm.auto import tqdm\n",
    "\n",
    "%matplotlib inline"
   ]
  },
  {
   "cell_type": "markdown",
   "metadata": {},
   "source": [
    "## 1. Retention indicator"
   ]
  },
  {
   "cell_type": "markdown",
   "metadata": {},
   "source": [
    "### 1.1 Task\n"
   ]
  },
  {
   "cell_type": "markdown",
   "metadata": {},
   "source": [
    "**Retention** is one of the most important indicators in a company. Your task is to write a function that will count the retention of players (by days from the date of registration of the player)."
   ]
  },
  {
   "cell_type": "markdown",
   "metadata": {},
   "source": [
    "### 1.2 Loading data"
   ]
  },
  {
   "cell_type": "markdown",
   "metadata": {},
   "source": [
    "#### Registration time data"
   ]
  },
  {
   "cell_type": "code",
   "execution_count": 2,
   "metadata": {},
   "outputs": [],
   "source": [
    "# reading data file with saving in reg\n",
    "reg = pd.read_csv('problem1-reg_data.csv', sep=';')"
   ]
  },
  {
   "cell_type": "markdown",
   "metadata": {},
   "source": [
    "Getting the first 10 rows of a table."
   ]
  },
  {
   "cell_type": "code",
   "execution_count": 3,
   "metadata": {},
   "outputs": [
    {
     "data": {
      "text/html": [
       "<div>\n",
       "<style scoped>\n",
       "    .dataframe tbody tr th:only-of-type {\n",
       "        vertical-align: middle;\n",
       "    }\n",
       "\n",
       "    .dataframe tbody tr th {\n",
       "        vertical-align: top;\n",
       "    }\n",
       "\n",
       "    .dataframe thead th {\n",
       "        text-align: right;\n",
       "    }\n",
       "</style>\n",
       "<table border=\"1\" class=\"dataframe\">\n",
       "  <thead>\n",
       "    <tr style=\"text-align: right;\">\n",
       "      <th></th>\n",
       "      <th>reg_ts</th>\n",
       "      <th>uid</th>\n",
       "    </tr>\n",
       "  </thead>\n",
       "  <tbody>\n",
       "    <tr>\n",
       "      <th>0</th>\n",
       "      <td>911382223</td>\n",
       "      <td>1</td>\n",
       "    </tr>\n",
       "    <tr>\n",
       "      <th>1</th>\n",
       "      <td>932683089</td>\n",
       "      <td>2</td>\n",
       "    </tr>\n",
       "    <tr>\n",
       "      <th>2</th>\n",
       "      <td>947802447</td>\n",
       "      <td>3</td>\n",
       "    </tr>\n",
       "    <tr>\n",
       "      <th>3</th>\n",
       "      <td>959523541</td>\n",
       "      <td>4</td>\n",
       "    </tr>\n",
       "    <tr>\n",
       "      <th>4</th>\n",
       "      <td>969103313</td>\n",
       "      <td>5</td>\n",
       "    </tr>\n",
       "    <tr>\n",
       "      <th>5</th>\n",
       "      <td>977206495</td>\n",
       "      <td>6</td>\n",
       "    </tr>\n",
       "    <tr>\n",
       "      <th>6</th>\n",
       "      <td>984222671</td>\n",
       "      <td>7</td>\n",
       "    </tr>\n",
       "    <tr>\n",
       "      <th>7</th>\n",
       "      <td>990407778</td>\n",
       "      <td>8</td>\n",
       "    </tr>\n",
       "    <tr>\n",
       "      <th>8</th>\n",
       "      <td>995943765</td>\n",
       "      <td>9</td>\n",
       "    </tr>\n",
       "    <tr>\n",
       "      <th>9</th>\n",
       "      <td>1000951674</td>\n",
       "      <td>10</td>\n",
       "    </tr>\n",
       "  </tbody>\n",
       "</table>\n",
       "</div>"
      ],
      "text/plain": [
       "       reg_ts  uid\n",
       "0   911382223    1\n",
       "1   932683089    2\n",
       "2   947802447    3\n",
       "3   959523541    4\n",
       "4   969103313    5\n",
       "5   977206495    6\n",
       "6   984222671    7\n",
       "7   990407778    8\n",
       "8   995943765    9\n",
       "9  1000951674   10"
      ]
     },
     "execution_count": 3,
     "metadata": {},
     "output_type": "execute_result"
    }
   ],
   "source": [
    "#Getting the first 10 rows of a table..\n",
    "reg.head(10)"
   ]
  },
  {
   "cell_type": "markdown",
   "metadata": {},
   "source": [
    "General information about table data reg."
   ]
  },
  {
   "cell_type": "code",
   "execution_count": 4,
   "metadata": {},
   "outputs": [
    {
     "name": "stdout",
     "output_type": "stream",
     "text": [
      "<class 'pandas.core.frame.DataFrame'>\n",
      "RangeIndex: 1000000 entries, 0 to 999999\n",
      "Data columns (total 2 columns):\n",
      " #   Column  Non-Null Count    Dtype\n",
      "---  ------  --------------    -----\n",
      " 0   reg_ts  1000000 non-null  int64\n",
      " 1   uid     1000000 non-null  int64\n",
      "dtypes: int64(2)\n",
      "memory usage: 15.3 MB\n"
     ]
    }
   ],
   "source": [
    "# getting general information about the data in the reg table\n",
    "reg.info()"
   ]
  },
  {
   "cell_type": "markdown",
   "metadata": {},
   "source": [
    "Let's consider the received information in more detail."
   ]
  },
  {
   "cell_type": "markdown",
   "metadata": {},
   "source": [
    "In total, the table has 2 columns and 1,000,000 rows. There is one data type: int64."
   ]
  },
  {
   "cell_type": "markdown",
   "metadata": {},
   "source": [
    "Let's take a closer look at which columns in reg contain what information:\n",
    "* reg_ts - registration time in Unix timestamp format\n",
    "* uid - unique identifier (user id)"
   ]
  },
  {
   "cell_type": "markdown",
   "metadata": {},
   "source": [
    "The number of values ​​in the columns is the same, there are no missing values."
   ]
  },
  {
   "cell_type": "markdown",
   "metadata": {},
   "source": [
    "#### Data on when users entered the game"
   ]
  },
  {
   "cell_type": "code",
   "execution_count": 5,
   "metadata": {},
   "outputs": [],
   "source": [
    "# reading data file with saving in auth\n",
    "auth = pd.read_csv('problem1-auth_data.csv', sep=';')"
   ]
  },
  {
   "cell_type": "code",
   "execution_count": 6,
   "metadata": {},
   "outputs": [
    {
     "data": {
      "text/html": [
       "<div>\n",
       "<style scoped>\n",
       "    .dataframe tbody tr th:only-of-type {\n",
       "        vertical-align: middle;\n",
       "    }\n",
       "\n",
       "    .dataframe tbody tr th {\n",
       "        vertical-align: top;\n",
       "    }\n",
       "\n",
       "    .dataframe thead th {\n",
       "        text-align: right;\n",
       "    }\n",
       "</style>\n",
       "<table border=\"1\" class=\"dataframe\">\n",
       "  <thead>\n",
       "    <tr style=\"text-align: right;\">\n",
       "      <th></th>\n",
       "      <th>auth_ts</th>\n",
       "      <th>uid</th>\n",
       "    </tr>\n",
       "  </thead>\n",
       "  <tbody>\n",
       "    <tr>\n",
       "      <th>0</th>\n",
       "      <td>911382223</td>\n",
       "      <td>1</td>\n",
       "    </tr>\n",
       "    <tr>\n",
       "      <th>1</th>\n",
       "      <td>932683089</td>\n",
       "      <td>2</td>\n",
       "    </tr>\n",
       "    <tr>\n",
       "      <th>2</th>\n",
       "      <td>932921206</td>\n",
       "      <td>2</td>\n",
       "    </tr>\n",
       "    <tr>\n",
       "      <th>3</th>\n",
       "      <td>933393015</td>\n",
       "      <td>2</td>\n",
       "    </tr>\n",
       "    <tr>\n",
       "      <th>4</th>\n",
       "      <td>933875379</td>\n",
       "      <td>2</td>\n",
       "    </tr>\n",
       "    <tr>\n",
       "      <th>5</th>\n",
       "      <td>934372615</td>\n",
       "      <td>2</td>\n",
       "    </tr>\n",
       "    <tr>\n",
       "      <th>6</th>\n",
       "      <td>934662633</td>\n",
       "      <td>2</td>\n",
       "    </tr>\n",
       "    <tr>\n",
       "      <th>7</th>\n",
       "      <td>935002586</td>\n",
       "      <td>2</td>\n",
       "    </tr>\n",
       "    <tr>\n",
       "      <th>8</th>\n",
       "      <td>935141232</td>\n",
       "      <td>2</td>\n",
       "    </tr>\n",
       "    <tr>\n",
       "      <th>9</th>\n",
       "      <td>935682752</td>\n",
       "      <td>2</td>\n",
       "    </tr>\n",
       "  </tbody>\n",
       "</table>\n",
       "</div>"
      ],
      "text/plain": [
       "     auth_ts  uid\n",
       "0  911382223    1\n",
       "1  932683089    2\n",
       "2  932921206    2\n",
       "3  933393015    2\n",
       "4  933875379    2\n",
       "5  934372615    2\n",
       "6  934662633    2\n",
       "7  935002586    2\n",
       "8  935141232    2\n",
       "9  935682752    2"
      ]
     },
     "execution_count": 6,
     "metadata": {},
     "output_type": "execute_result"
    }
   ],
   "source": [
    "#Getting the first 10 rows of a table.\n",
    "auth.head(10)"
   ]
  },
  {
   "cell_type": "markdown",
   "metadata": {},
   "source": [
    "General information about the auth table data."
   ]
  },
  {
   "cell_type": "code",
   "execution_count": 7,
   "metadata": {},
   "outputs": [
    {
     "name": "stdout",
     "output_type": "stream",
     "text": [
      "<class 'pandas.core.frame.DataFrame'>\n",
      "RangeIndex: 9601013 entries, 0 to 9601012\n",
      "Data columns (total 2 columns):\n",
      " #   Column   Dtype\n",
      "---  ------   -----\n",
      " 0   auth_ts  int64\n",
      " 1   uid      int64\n",
      "dtypes: int64(2)\n",
      "memory usage: 146.5 MB\n"
     ]
    }
   ],
   "source": [
    "\n",
    "auth.info()"
   ]
  },
  {
   "cell_type": "code",
   "execution_count": 8,
   "metadata": {},
   "outputs": [
    {
     "data": {
      "text/plain": [
       "auth_ts    0\n",
       "uid        0\n",
       "dtype: int64"
      ]
     },
     "execution_count": 8,
     "metadata": {},
     "output_type": "execute_result"
    }
   ],
   "source": [
    "# check for missing values.\n",
    "auth.isna().sum()"
   ]
  },
  {
   "cell_type": "code",
   "execution_count": 9,
   "metadata": {},
   "outputs": [
    {
     "data": {
      "text/plain": [
       "9601013"
      ]
     },
     "execution_count": 9,
     "metadata": {},
     "output_type": "execute_result"
    }
   ],
   "source": [
    "# get the number of rows in the table\n",
    "auth.shape[0]"
   ]
  },
  {
   "cell_type": "markdown",
   "metadata": {},
   "source": [
    "In total, the table has 2 columns and 9601013 rows. There is one data type: int64."
   ]
  },
  {
   "cell_type": "markdown",
   "metadata": {},
   "source": [
    "Let's take a closer look at which columns in auth contain which information:\n",
    "* auth_ts - time the user entered the game in Unix timestamp format\n",
    "* uid - unique identifier (user id)"
   ]
  },
  {
   "cell_type": "markdown",
   "metadata": {},
   "source": [
    "The number of values ​​in the columns is the same, there are no missing values."
   ]
  },
  {
   "cell_type": "markdown",
   "metadata": {},
   "source": [
    "#### Conclusions"
   ]
  },
  {
   "cell_type": "markdown",
   "metadata": {},
   "source": [
    "Each row of the table contains the user's id and a timestamp of his action (registration or the time he entered the game). There are no gaps in the data."
   ]
  },
  {
   "cell_type": "markdown",
   "metadata": {},
   "source": [
    "The next step will be:\n",
    "* convert timestamps from Unix timestamp format,\n",
    "* convert uid to string format (eliminate potential loss of zeros and further possible problems, though at the expense of some insignificant loss in the efficiency of working with data for a given amount of data),\n",
    "* examine the data for anomalies (for example, registrations with the re-assignment of an already used uid, abnormal frequency of users entering the game (cut off bots), etc.)"
   ]
  },
  {
   "cell_type": "markdown",
   "metadata": {},
   "source": [
    "### 1.3 Data preprocessing"
   ]
  },
  {
   "cell_type": "markdown",
   "metadata": {},
   "source": [
    "Let's do a timestamp conversion, convert the uid to a string format, and examine the data for anomalies."
   ]
  },
  {
   "cell_type": "markdown",
   "metadata": {},
   "source": [
    "#### Registration time data"
   ]
  },
  {
   "cell_type": "markdown",
   "metadata": {},
   "source": [
    "**Let's convert the timestamp column from Unix timestamp to datetime.**"
   ]
  },
  {
   "cell_type": "code",
   "execution_count": 10,
   "metadata": {},
   "outputs": [],
   "source": [
    "# do the transformation\n",
    "reg['reg_ts'] = pd.to_datetime(reg['reg_ts'], unit='s')"
   ]
  },
  {
   "cell_type": "code",
   "execution_count": 12,
   "metadata": {},
   "outputs": [
    {
     "name": "stdout",
     "output_type": "stream",
     "text": [
      "<class 'pandas.core.frame.DataFrame'>\n",
      "RangeIndex: 1000000 entries, 0 to 999999\n",
      "Data columns (total 2 columns):\n",
      " #   Column  Non-Null Count    Dtype         \n",
      "---  ------  --------------    -----         \n",
      " 0   reg_ts  1000000 non-null  datetime64[ns]\n",
      " 1   uid     1000000 non-null  int64         \n",
      "dtypes: datetime64[ns](1), int64(1)\n",
      "memory usage: 15.3 MB\n"
     ]
    }
   ],
   "source": [
    "# see the results of the conversion\n",
    "reg.info()"
   ]
  },
  {
   "cell_type": "markdown",
   "metadata": {},
   "source": [
    "Let's get acquainted with the distribution of the date range."
   ]
  },
  {
   "cell_type": "code",
   "execution_count": 13,
   "metadata": {},
   "outputs": [
    {
     "data": {
      "text/plain": [
       "count                          1000000\n",
       "mean     2019-01-24 12:12:34.523666688\n",
       "min                1998-11-18 09:43:43\n",
       "25%         2018-06-03 13:55:11.500000\n",
       "50%                2019-07-30 02:35:25\n",
       "75%      2020-04-01 16:28:40.499999744\n",
       "max                2020-09-23 15:17:24\n",
       "Name: reg_ts, dtype: object"
      ]
     },
     "execution_count": 13,
     "metadata": {},
     "output_type": "execute_result"
    }
   ],
   "source": [
    "# see descriptive statistics\n",
    "reg.reg_ts.describe(include='all', datetime_is_numeric=True)"
   ]
  },
  {
   "cell_type": "markdown",
   "metadata": {},
   "source": [
    "We see that the full date range has values ​​from 1998-11-18 to 2020-09-23. "
   ]
  },
  {
   "cell_type": "markdown",
   "metadata": {},
   "source": [
    "Let's check the percentage of the number of registrations in a given year."
   ]
  },
  {
   "cell_type": "code",
   "execution_count": 14,
   "metadata": {},
   "outputs": [],
   "source": [
    "# group the data by years and calculate the number of registrations as a percentage\n",
    "reg_by_year = reg.reg_ts.dt.year.value_counts(normalize=True) \\\n",
    "                 .reset_index() \\\n",
    "                 .rename(columns={'index': 'year', 'reg_ts': 'regs_pct'}) "
   ]
  },
  {
   "cell_type": "code",
   "execution_count": 15,
   "metadata": {},
   "outputs": [
    {
     "data": {
      "text/html": [
       "<div>\n",
       "<style scoped>\n",
       "    .dataframe tbody tr th:only-of-type {\n",
       "        vertical-align: middle;\n",
       "    }\n",
       "\n",
       "    .dataframe tbody tr th {\n",
       "        vertical-align: top;\n",
       "    }\n",
       "\n",
       "    .dataframe thead th {\n",
       "        text-align: right;\n",
       "    }\n",
       "</style>\n",
       "<table border=\"1\" class=\"dataframe\">\n",
       "  <thead>\n",
       "    <tr style=\"text-align: right;\">\n",
       "      <th></th>\n",
       "      <th>year</th>\n",
       "      <th>regs_pct</th>\n",
       "    </tr>\n",
       "  </thead>\n",
       "  <tbody>\n",
       "    <tr>\n",
       "      <th>0</th>\n",
       "      <td>2020</td>\n",
       "      <td>0.354963</td>\n",
       "    </tr>\n",
       "    <tr>\n",
       "      <th>1</th>\n",
       "      <td>2019</td>\n",
       "      <td>0.291102</td>\n",
       "    </tr>\n",
       "    <tr>\n",
       "      <th>2</th>\n",
       "      <td>2018</td>\n",
       "      <td>0.159729</td>\n",
       "    </tr>\n",
       "    <tr>\n",
       "      <th>3</th>\n",
       "      <td>2017</td>\n",
       "      <td>0.087645</td>\n",
       "    </tr>\n",
       "    <tr>\n",
       "      <th>4</th>\n",
       "      <td>2016</td>\n",
       "      <td>0.048187</td>\n",
       "    </tr>\n",
       "    <tr>\n",
       "      <th>5</th>\n",
       "      <td>2015</td>\n",
       "      <td>0.026344</td>\n",
       "    </tr>\n",
       "    <tr>\n",
       "      <th>6</th>\n",
       "      <td>2014</td>\n",
       "      <td>0.014455</td>\n",
       "    </tr>\n",
       "  </tbody>\n",
       "</table>\n",
       "</div>"
      ],
      "text/plain": [
       "   year  regs_pct\n",
       "0  2020  0.354963\n",
       "1  2019  0.291102\n",
       "2  2018  0.159729\n",
       "3  2017  0.087645\n",
       "4  2016  0.048187\n",
       "5  2015  0.026344\n",
       "6  2014  0.014455"
      ]
     },
     "execution_count": 15,
     "metadata": {},
     "output_type": "execute_result"
    }
   ],
   "source": [
    "# look at years with more than one percent registrations\n",
    "reg_by_year[reg_by_year['regs_pct'] >= 0.01]"
   ]
  },
  {
   "cell_type": "markdown",
   "metadata": {},
   "source": [
    "We will continue to work with data starting from 2014. The remaining data will be considered outliers and excluded from the table."
   ]
  },
  {
   "cell_type": "code",
   "execution_count": 16,
   "metadata": {},
   "outputs": [],
   "source": [
    "# save data to reg_14 variable\n",
    "reg_14 = reg[reg.loc[:, 'reg_ts'] > '2014-01-01 00:00:00.000000000']"
   ]
  },
  {
   "cell_type": "code",
   "execution_count": 17,
   "metadata": {},
   "outputs": [],
   "source": [
    "# reset indexes\n",
    "reg_14.reset_index(inplace=True, drop=True)"
   ]
  },
  {
   "cell_type": "code",
   "execution_count": 18,
   "metadata": {},
   "outputs": [
    {
     "data": {
      "text/plain": [
       "count                           982425\n",
       "mean     2019-03-09 11:11:10.245498112\n",
       "min                2014-01-01 00:03:11\n",
       "25%                2018-07-04 19:51:14\n",
       "50%                2019-08-09 16:52:29\n",
       "75%                2020-04-05 05:43:58\n",
       "max                2020-09-23 15:17:24\n",
       "Name: reg_ts, dtype: object"
      ]
     },
     "execution_count": 18,
     "metadata": {},
     "output_type": "execute_result"
    }
   ],
   "source": [
    "# see descriptive statistics\n",
    "reg_14.reg_ts.describe(include='all', datetime_is_numeric=True)"
   ]
  },
  {
   "cell_type": "code",
   "execution_count": 19,
   "metadata": {},
   "outputs": [
    {
     "data": {
      "text/plain": [
       "17575"
      ]
     },
     "execution_count": 19,
     "metadata": {},
     "output_type": "execute_result"
    }
   ],
   "source": [
    "# see the number of cut lines\n",
    "reg.shape[0] - reg_14.shape[0]"
   ]
  },
  {
   "cell_type": "code",
   "execution_count": 20,
   "metadata": {},
   "outputs": [
    {
     "data": {
      "text/plain": [
       "1.76"
      ]
     },
     "execution_count": 20,
     "metadata": {},
     "output_type": "execute_result"
    }
   ],
   "source": [
    "# number of cut lines as a percentage\n",
    "round((reg.shape[0] - reg_14.shape[0]) * 100 / reg.shape[0], 2)"
   ]
  },
  {
   "cell_type": "markdown",
   "metadata": {},
   "source": [
    "We see that the data before 2014 were cut off (17575 rows or 1.76%)."
   ]
  },
  {
   "cell_type": "markdown",
   "metadata": {},
   "source": [
    "**Convert uid values ​​to string data format**"
   ]
  },
  {
   "cell_type": "code",
   "execution_count": 21,
   "metadata": {},
   "outputs": [
    {
     "name": "stderr",
     "output_type": "stream",
     "text": [
      "C:\\Users\\Nikhil\\anaconda3\\lib\\site-packages\\pandas\\core\\indexing.py:1676: SettingWithCopyWarning: \n",
      "A value is trying to be set on a copy of a slice from a DataFrame.\n",
      "Try using .loc[row_indexer,col_indexer] = value instead\n",
      "\n",
      "See the caveats in the documentation: https://pandas.pydata.org/pandas-docs/stable/user_guide/indexing.html#returning-a-view-versus-a-copy\n",
      "  self._setitem_single_column(ilocs[0], value, pi)\n"
     ]
    }
   ],
   "source": [
    "# convert the data type of the uid column to string values\n",
    "reg_14.loc[:, ['uid']] = reg_14['uid'].astype('str')"
   ]
  },
  {
   "cell_type": "code",
   "execution_count": 22,
   "metadata": {},
   "outputs": [
    {
     "data": {
      "text/plain": [
       "reg_ts    datetime64[ns]\n",
       "uid               object\n",
       "dtype: object"
      ]
     },
     "execution_count": 22,
     "metadata": {},
     "output_type": "execute_result"
    }
   ],
   "source": [
    "# check the correctness of the conversion\n",
    "reg_14.dtypes"
   ]
  },
  {
   "cell_type": "markdown",
   "metadata": {},
   "source": [
    "Converting uid to string format was successful."
   ]
  },
  {
   "cell_type": "markdown",
   "metadata": {},
   "source": [
    "**Check for user registrations with re-assignment of an already used uid**"
   ]
  },
  {
   "cell_type": "code",
   "execution_count": 23,
   "metadata": {},
   "outputs": [
    {
     "data": {
      "text/plain": [
       "0"
      ]
     },
     "execution_count": 23,
     "metadata": {},
     "output_type": "execute_result"
    }
   ],
   "source": [
    "# display the number of duplicate uids encountered\n",
    "reg_14.uid.duplicated().sum()"
   ]
  },
  {
   "cell_type": "markdown",
   "metadata": {},
   "source": [
    "No reuse of uids already issued."
   ]
  },
  {
   "cell_type": "markdown",
   "metadata": {},
   "source": [
    "#### Data on when users entered the game"
   ]
  },
  {
   "cell_type": "markdown",
   "metadata": {},
   "source": [
    "**Let's convert the timestamp column from Unix timestamp to datetime.**"
   ]
  },
  {
   "cell_type": "code",
   "execution_count": 24,
   "metadata": {},
   "outputs": [],
   "source": [
    "# do the transformation\n",
    "auth['auth_ts'] = pd.to_datetime(auth['auth_ts'], unit='s')"
   ]
  },
  {
   "cell_type": "code",
   "execution_count": 25,
   "metadata": {},
   "outputs": [
    {
     "name": "stdout",
     "output_type": "stream",
     "text": [
      "<class 'pandas.core.frame.DataFrame'>\n",
      "RangeIndex: 9601013 entries, 0 to 9601012\n",
      "Data columns (total 2 columns):\n",
      " #   Column   Dtype         \n",
      "---  ------   -----         \n",
      " 0   auth_ts  datetime64[ns]\n",
      " 1   uid      int64         \n",
      "dtypes: datetime64[ns](1), int64(1)\n",
      "memory usage: 146.5 MB\n"
     ]
    }
   ],
   "source": [
    "# see the results of the conversion\n",
    "auth.info()"
   ]
  },
  {
   "cell_type": "markdown",
   "metadata": {},
   "source": [
    "Let's get acquainted with the distribution of the date range."
   ]
  },
  {
   "cell_type": "code",
   "execution_count": 26,
   "metadata": {},
   "outputs": [
    {
     "data": {
      "text/plain": [
       "count                          9601013\n",
       "mean     2019-01-29 16:12:06.254851584\n",
       "min                1998-11-18 09:43:43\n",
       "25%                2018-06-07 12:40:47\n",
       "50%                2019-07-31 12:43:16\n",
       "75%                2020-04-02 10:25:21\n",
       "max                2020-09-23 15:17:24\n",
       "Name: auth_ts, dtype: object"
      ]
     },
     "execution_count": 26,
     "metadata": {},
     "output_type": "execute_result"
    }
   ],
   "source": [
    "# see descriptive statistics\n",
    "auth.auth_ts.describe(include='all', datetime_is_numeric=True)"
   ]
  },
  {
   "cell_type": "markdown",
   "metadata": {},
   "source": [
    "We see that the full date range has values ​​from 1998-11-18 to 2020-09-23."
   ]
  },
  {
   "cell_type": "markdown",
   "metadata": {},
   "source": [
    "As for the case with registrations, we will leave only the values ​​\\u200b\\u200bstarting from 2014. The remaining data will be considered outliers and excluded from the table."
   ]
  },
  {
   "cell_type": "code",
   "execution_count": 27,
   "metadata": {},
   "outputs": [],
   "source": [
    "# store the data in the auth_14 variable\n",
    "auth_14 = auth[auth.loc[:, 'auth_ts'] > '2014-01-01 00:00:00.000000000']"
   ]
  },
  {
   "cell_type": "code",
   "execution_count": 28,
   "metadata": {},
   "outputs": [],
   "source": [
    "# сбросим индексы\n",
    "auth_14.reset_index(inplace=True, drop=True)"
   ]
  },
  {
   "cell_type": "code",
   "execution_count": 29,
   "metadata": {},
   "outputs": [
    {
     "data": {
      "text/plain": [
       "count                          9445996\n",
       "mean     2019-03-10 11:48:49.205444608\n",
       "min                2014-01-01 00:03:11\n",
       "25%         2018-07-05 22:59:18.500000\n",
       "50%                2019-08-10 05:59:40\n",
       "75%      2020-04-05 16:38:24.249999872\n",
       "max                2020-09-23 15:17:24\n",
       "Name: auth_ts, dtype: object"
      ]
     },
     "execution_count": 29,
     "metadata": {},
     "output_type": "execute_result"
    }
   ],
   "source": [
    "# see descriptive statistics\n",
    "auth_14.auth_ts.describe(include='all', datetime_is_numeric=True)"
   ]
  },
  {
   "cell_type": "code",
   "execution_count": 29,
   "metadata": {},
   "outputs": [
    {
     "data": {
      "text/plain": [
       "155017"
      ]
     },
     "execution_count": 29,
     "metadata": {},
     "output_type": "execute_result"
    }
   ],
   "source": [
    "# see the number of cut lines\n",
    "auth.shape[0] - auth_14.shape[0]"
   ]
  },
  {
   "cell_type": "code",
   "execution_count": 30,
   "metadata": {},
   "outputs": [
    {
     "data": {
      "text/plain": [
       "1.61"
      ]
     },
     "execution_count": 30,
     "metadata": {},
     "output_type": "execute_result"
    }
   ],
   "source": [
    "\n",
    "# number of cut lines as a percentage\n",
    "round((auth.shape[0] - auth_14.shape[0]) * 100 / auth.shape[0], 2)"
   ]
  },
  {
   "cell_type": "markdown",
   "metadata": {},
   "source": [
    "We see that the data before 2014 were cut off (155017 rows or 1.61%)."
   ]
  },
  {
   "cell_type": "markdown",
   "metadata": {},
   "source": [
    "**Convert uid values ​​to string data format**"
   ]
  },
  {
   "cell_type": "code",
   "execution_count": 31,
   "metadata": {},
   "outputs": [],
   "source": [
    "# convert the data type of the uid column to string values\n",
    "auth_14.loc[:, ['uid']] = auth_14['uid'].astype('str')"
   ]
  },
  {
   "cell_type": "code",
   "execution_count": 32,
   "metadata": {},
   "outputs": [
    {
     "data": {
      "text/plain": [
       "auth_ts    datetime64[ns]\n",
       "uid                object\n",
       "dtype: object"
      ]
     },
     "execution_count": 32,
     "metadata": {},
     "output_type": "execute_result"
    }
   ],
   "source": [
    "# check the correct execution\n",
    "auth_14.dtypes"
   ]
  },
  {
   "cell_type": "markdown",
   "metadata": {},
   "source": [
    "Converting uid to string format was successful."
   ]
  },
  {
   "cell_type": "markdown",
   "metadata": {},
   "source": [
    "**Study the statistics of user visits to the game**"
   ]
  },
  {
   "cell_type": "code",
   "execution_count": 33,
   "metadata": {},
   "outputs": [],
   "source": [
    "# grouping by users and counting the number of visits to the game\n",
    "auth_freq = auth_14.groupby('uid', as_index=False) \\\n",
    "                   .agg({'auth_ts': 'count'}) \\\n",
    "                   .rename(columns={'auth_ts': 'visits'}) \\\n",
    "                   .sort_values('visits', ascending=False)"
   ]
  },
  {
   "cell_type": "code",
   "execution_count": 34,
   "metadata": {},
   "outputs": [
    {
     "data": {
      "text/plain": [
       "count    983392.000000\n",
       "mean          9.605525\n",
       "std          45.489029\n",
       "min           1.000000\n",
       "25%           1.000000\n",
       "50%           1.000000\n",
       "75%           1.000000\n",
       "max         647.000000\n",
       "Name: visits, dtype: float64"
      ]
     },
     "execution_count": 34,
     "metadata": {},
     "output_type": "execute_result"
    }
   ],
   "source": [
    "# descriptive statistics of the distribution of the number of user visits to the game\n",
    "auth_freq.visits.describe()"
   ]
  },
  {
   "cell_type": "markdown",
   "metadata": {},
   "source": [
    "The maximum number of visits to the game is very different from the average and median values. Let's check the time between visits to exclude bot visits."
   ]
  },
  {
   "cell_type": "code",
   "execution_count": 35,
   "metadata": {},
   "outputs": [],
   "source": [
    "# grouping by users and sorting by entry time\n",
    "auth_14_delta = auth_14.reset_index() \\\n",
    "                       .groupby(['index', 'uid', 'auth_ts'], as_index=False) \\\n",
    "                       .agg({'index': 'count'}) \\\n",
    "                       .drop(columns='index') \\\n",
    "                       .sort_values(['uid', 'auth_ts'])"
   ]
  },
  {
   "cell_type": "code",
   "execution_count": 36,
   "metadata": {},
   "outputs": [
    {
     "data": {
      "text/html": [
       "<div>\n",
       "<style scoped>\n",
       "    .dataframe tbody tr th:only-of-type {\n",
       "        vertical-align: middle;\n",
       "    }\n",
       "\n",
       "    .dataframe tbody tr th {\n",
       "        vertical-align: top;\n",
       "    }\n",
       "\n",
       "    .dataframe thead th {\n",
       "        text-align: right;\n",
       "    }\n",
       "</style>\n",
       "<table border=\"1\" class=\"dataframe\">\n",
       "  <thead>\n",
       "    <tr style=\"text-align: right;\">\n",
       "      <th></th>\n",
       "      <th>uid</th>\n",
       "      <th>auth_ts</th>\n",
       "      <th>delta</th>\n",
       "    </tr>\n",
       "  </thead>\n",
       "  <tbody>\n",
       "    <tr>\n",
       "      <th>690733</th>\n",
       "      <td>100000</td>\n",
       "      <td>2016-09-20 02:33:46</td>\n",
       "      <td>NaT</td>\n",
       "    </tr>\n",
       "    <tr>\n",
       "      <th>8485653</th>\n",
       "      <td>1000000</td>\n",
       "      <td>2020-07-21 19:58:14</td>\n",
       "      <td>1400 days 17:24:28</td>\n",
       "    </tr>\n",
       "    <tr>\n",
       "      <th>8485662</th>\n",
       "      <td>1000001</td>\n",
       "      <td>2020-07-21 19:59:12</td>\n",
       "      <td>0 days 00:00:58</td>\n",
       "    </tr>\n",
       "    <tr>\n",
       "      <th>8553022</th>\n",
       "      <td>1000001</td>\n",
       "      <td>2020-07-26 12:14:31</td>\n",
       "      <td>4 days 16:15:19</td>\n",
       "    </tr>\n",
       "    <tr>\n",
       "      <th>8593456</th>\n",
       "      <td>1000001</td>\n",
       "      <td>2020-07-29 07:45:01</td>\n",
       "      <td>2 days 19:30:30</td>\n",
       "    </tr>\n",
       "    <tr>\n",
       "      <th>...</th>\n",
       "      <td>...</td>\n",
       "      <td>...</td>\n",
       "      <td>...</td>\n",
       "    </tr>\n",
       "    <tr>\n",
       "      <th>9097164</th>\n",
       "      <td>999999</td>\n",
       "      <td>2020-09-01 04:42:45</td>\n",
       "      <td>3 days 12:16:06</td>\n",
       "    </tr>\n",
       "    <tr>\n",
       "      <th>9151803</th>\n",
       "      <td>999999</td>\n",
       "      <td>2020-09-04 18:14:23</td>\n",
       "      <td>3 days 13:31:38</td>\n",
       "    </tr>\n",
       "    <tr>\n",
       "      <th>9231540</th>\n",
       "      <td>999999</td>\n",
       "      <td>2020-09-09 22:14:16</td>\n",
       "      <td>5 days 03:59:53</td>\n",
       "    </tr>\n",
       "    <tr>\n",
       "      <th>9328627</th>\n",
       "      <td>999999</td>\n",
       "      <td>2020-09-16 03:59:54</td>\n",
       "      <td>6 days 05:45:38</td>\n",
       "    </tr>\n",
       "    <tr>\n",
       "      <th>9429244</th>\n",
       "      <td>999999</td>\n",
       "      <td>2020-09-22 13:10:02</td>\n",
       "      <td>6 days 09:10:08</td>\n",
       "    </tr>\n",
       "  </tbody>\n",
       "</table>\n",
       "<p>9445996 rows × 3 columns</p>\n",
       "</div>"
      ],
      "text/plain": [
       "             uid             auth_ts              delta\n",
       "690733    100000 2016-09-20 02:33:46                NaT\n",
       "8485653  1000000 2020-07-21 19:58:14 1400 days 17:24:28\n",
       "8485662  1000001 2020-07-21 19:59:12    0 days 00:00:58\n",
       "8553022  1000001 2020-07-26 12:14:31    4 days 16:15:19\n",
       "8593456  1000001 2020-07-29 07:45:01    2 days 19:30:30\n",
       "...          ...                 ...                ...\n",
       "9097164   999999 2020-09-01 04:42:45    3 days 12:16:06\n",
       "9151803   999999 2020-09-04 18:14:23    3 days 13:31:38\n",
       "9231540   999999 2020-09-09 22:14:16    5 days 03:59:53\n",
       "9328627   999999 2020-09-16 03:59:54    6 days 05:45:38\n",
       "9429244   999999 2020-09-22 13:10:02    6 days 09:10:08\n",
       "\n",
       "[9445996 rows x 3 columns]"
      ]
     },
     "execution_count": 36,
     "metadata": {},
     "output_type": "execute_result"
    }
   ],
   "source": [
    "# calculate the time difference between visits\n",
    "auth_14_delta['delta'] = auth_14_delta.auth_ts.diff(periods=1)\n",
    "\n",
    "auth_14_delta"
   ]
  },
  {
   "cell_type": "code",
   "execution_count": 37,
   "metadata": {},
   "outputs": [],
   "source": [
    "# remove everyone who has less than 5 minutes between sessions\n",
    "# (possible bots and users who didn't play / random logins)\n",
    "auth_14_delta = auth_14_delta[auth_14_delta['delta'] >= '0 days 00:05:00']"
   ]
  },
  {
   "cell_type": "code",
   "execution_count": 38,
   "metadata": {},
   "outputs": [],
   "source": [
    "# create a list of \"normal\" users (not bots and not random visits)\n",
    "active_uids = auth_14_delta.uid.unique()"
   ]
  },
  {
   "cell_type": "code",
   "execution_count": 40,
   "metadata": {},
   "outputs": [],
   "source": [
    "# remove the uid with the abnormal number of visits to the game from auth_14\n",
    "auth_14_cleaned = auth_14.query('uid in @active_uids')"
   ]
  },
  {
   "cell_type": "code",
   "execution_count": 41,
   "metadata": {},
   "outputs": [
    {
     "data": {
      "text/plain": [
       "645083"
      ]
     },
     "execution_count": 41,
     "metadata": {},
     "output_type": "execute_result"
    }
   ],
   "source": [
    "\n",
    "# see the number of cut lines\n",
    "auth_14.shape[0] - auth_14_cleaned.shape[0]"
   ]
  },
  {
   "cell_type": "code",
   "execution_count": 42,
   "metadata": {},
   "outputs": [
    {
     "data": {
      "text/plain": [
       "6.83"
      ]
     },
     "execution_count": 42,
     "metadata": {},
     "output_type": "execute_result"
    }
   ],
   "source": [
    "# number of cut lines as a percentage\n",
    "round((auth_14.shape[0] - auth_14_cleaned.shape[0]) * 100 / auth_14.shape[0], 2)"
   ]
  },
  {
   "cell_type": "markdown",
   "metadata": {},
   "source": [
    "645083 anomalous strings were discarded (by the frequency of entering the game), which is 6.83%."
   ]
  },
  {
   "cell_type": "markdown",
   "metadata": {},
   "source": [
    "\n",
    "#### Conclusions"
   ]
  },
  {
   "cell_type": "markdown",
   "metadata": {},
   "source": [
    "The data formats were changed (Unix timestamp --> datetime; uid from integer to string values), checking for duplicate uid values ​​​​after registration (no duplicates were found), deleting data that was not date-relevant (left data from 2014), as well as the search and removal of anomalous values ​​by the frequency of entering the game (removed about 7% of the data - possibly bots or random user entries into the game, without the game process itself)."
   ]
  },
  {
   "cell_type": "markdown",
   "metadata": {},
   "source": [
    "The next step is to calculate user retention."
   ]
  },
  {
   "cell_type": "markdown",
   "metadata": {},
   "source": [
    "### 1.4 Retention Calculation"
   ]
  },
  {
   "cell_type": "markdown",
   "metadata": {},
   "source": [
    "#### Data preparation#### Подготовка данных"
   ]
  },
  {
   "cell_type": "markdown",
   "metadata": {},
   "source": [
    "Let's calculate the retention (retention level) of players by days from the date of registration of the player."
   ]
  },
  {
   "cell_type": "code",
   "execution_count": 43,
   "metadata": {},
   "outputs": [
    {
     "data": {
      "text/html": [
       "<div>\n",
       "<style scoped>\n",
       "    .dataframe tbody tr th:only-of-type {\n",
       "        vertical-align: middle;\n",
       "    }\n",
       "\n",
       "    .dataframe tbody tr th {\n",
       "        vertical-align: top;\n",
       "    }\n",
       "\n",
       "    .dataframe thead th {\n",
       "        text-align: right;\n",
       "    }\n",
       "</style>\n",
       "<table border=\"1\" class=\"dataframe\">\n",
       "  <thead>\n",
       "    <tr style=\"text-align: right;\">\n",
       "      <th></th>\n",
       "      <th>auth_ts</th>\n",
       "      <th>uid</th>\n",
       "      <th>reg_ts</th>\n",
       "    </tr>\n",
       "  </thead>\n",
       "  <tbody>\n",
       "    <tr>\n",
       "      <th>0</th>\n",
       "      <td>2014-01-01 00:04:58</td>\n",
       "      <td>5460</td>\n",
       "      <td>NaT</td>\n",
       "    </tr>\n",
       "    <tr>\n",
       "      <th>1</th>\n",
       "      <td>2014-01-01 00:07:08</td>\n",
       "      <td>14320</td>\n",
       "      <td>NaT</td>\n",
       "    </tr>\n",
       "    <tr>\n",
       "      <th>2</th>\n",
       "      <td>2014-01-01 00:07:40</td>\n",
       "      <td>584</td>\n",
       "      <td>NaT</td>\n",
       "    </tr>\n",
       "    <tr>\n",
       "      <th>3</th>\n",
       "      <td>2014-01-01 00:11:19</td>\n",
       "      <td>17025</td>\n",
       "      <td>NaT</td>\n",
       "    </tr>\n",
       "    <tr>\n",
       "      <th>4</th>\n",
       "      <td>2014-01-01 00:12:46</td>\n",
       "      <td>5939</td>\n",
       "      <td>NaT</td>\n",
       "    </tr>\n",
       "    <tr>\n",
       "      <th>...</th>\n",
       "      <td>...</td>\n",
       "      <td>...</td>\n",
       "      <td>...</td>\n",
       "    </tr>\n",
       "    <tr>\n",
       "      <th>8800908</th>\n",
       "      <td>2020-09-23 14:36:14</td>\n",
       "      <td>1110570</td>\n",
       "      <td>2020-09-23 14:36:14</td>\n",
       "    </tr>\n",
       "    <tr>\n",
       "      <th>8800909</th>\n",
       "      <td>2020-09-23 14:43:15</td>\n",
       "      <td>1110580</td>\n",
       "      <td>2020-09-23 14:43:15</td>\n",
       "    </tr>\n",
       "    <tr>\n",
       "      <th>8800910</th>\n",
       "      <td>2020-09-23 14:50:15</td>\n",
       "      <td>1110591</td>\n",
       "      <td>2020-09-23 14:50:15</td>\n",
       "    </tr>\n",
       "    <tr>\n",
       "      <th>8800911</th>\n",
       "      <td>2020-09-23 14:58:08</td>\n",
       "      <td>1110600</td>\n",
       "      <td>2020-09-23 14:58:08</td>\n",
       "    </tr>\n",
       "    <tr>\n",
       "      <th>8800912</th>\n",
       "      <td>2020-09-23 15:06:53</td>\n",
       "      <td>1110610</td>\n",
       "      <td>2020-09-23 15:06:53</td>\n",
       "    </tr>\n",
       "  </tbody>\n",
       "</table>\n",
       "<p>8800913 rows × 3 columns</p>\n",
       "</div>"
      ],
      "text/plain": [
       "                    auth_ts      uid              reg_ts\n",
       "0       2014-01-01 00:04:58     5460                 NaT\n",
       "1       2014-01-01 00:07:08    14320                 NaT\n",
       "2       2014-01-01 00:07:40      584                 NaT\n",
       "3       2014-01-01 00:11:19    17025                 NaT\n",
       "4       2014-01-01 00:12:46     5939                 NaT\n",
       "...                     ...      ...                 ...\n",
       "8800908 2020-09-23 14:36:14  1110570 2020-09-23 14:36:14\n",
       "8800909 2020-09-23 14:43:15  1110580 2020-09-23 14:43:15\n",
       "8800910 2020-09-23 14:50:15  1110591 2020-09-23 14:50:15\n",
       "8800911 2020-09-23 14:58:08  1110600 2020-09-23 14:58:08\n",
       "8800912 2020-09-23 15:06:53  1110610 2020-09-23 15:06:53\n",
       "\n",
       "[8800913 rows x 3 columns]"
      ]
     },
     "execution_count": 43,
     "metadata": {},
     "output_type": "execute_result"
    }
   ],
   "source": [
    "# merge tables into one dataframe by uid\n",
    "data = auth_14_cleaned.merge(reg_14, how='left', on='uid')\n",
    "\n",
    "data"
   ]
  },
  {
   "cell_type": "markdown",
   "metadata": {},
   "source": [
    "\n",
    "Users were found with login time but no login time. Let's look at the total number of such users."
   ]
  },
  {
   "cell_type": "code",
   "execution_count": 44,
   "metadata": {},
   "outputs": [
    {
     "data": {
      "text/plain": [
       "520363"
      ]
     },
     "execution_count": 44,
     "metadata": {},
     "output_type": "execute_result"
    }
   ],
   "source": [
    "# Determine the number of rows without logging time values\n",
    "data.reg_ts.isna().sum()"
   ]
  },
  {
   "cell_type": "markdown",
   "metadata": {},
   "source": [
    "We will remove such users from the data, because it will not be possible to build retention on them from the date of registration."
   ]
  },
  {
   "cell_type": "code",
   "execution_count": 45,
   "metadata": {},
   "outputs": [],
   "source": [
    "# remove users without registration time\n",
    "data.dropna(subset=['reg_ts'], inplace=True)"
   ]
  },
  {
   "cell_type": "code",
   "execution_count": 46,
   "metadata": {},
   "outputs": [],
   "source": [
    "\n",
    "# reset the index\n",
    "data.reset_index(drop=True, inplace=True)"
   ]
  },
  {
   "cell_type": "code",
   "execution_count": 47,
   "metadata": {},
   "outputs": [
    {
     "data": {
      "text/plain": [
       "520363"
      ]
     },
     "execution_count": 47,
     "metadata": {},
     "output_type": "execute_result"
    }
   ],
   "source": [
    "# see the number of cut lines\n",
    "auth_14_cleaned.shape[0] - data.shape[0]"
   ]
  },
  {
   "cell_type": "code",
   "execution_count": 48,
   "metadata": {},
   "outputs": [
    {
     "data": {
      "text/plain": [
       "5.91"
      ]
     },
     "execution_count": 48,
     "metadata": {},
     "output_type": "execute_result"
    }
   ],
   "source": [
    "# number of cut lines as a percentage\n",
    "round((auth_14_cleaned.shape[0] - data.shape[0]) * 100 / auth_14_cleaned.shape[0], 2)"
   ]
  },
  {
   "cell_type": "markdown",
   "metadata": {},
   "source": [
    "\n",
    "520363 rows were discarded without log times, which is 5.91%."
   ]
  },
  {
   "cell_type": "markdown",
   "metadata": {},
   "source": [
    "\n",
    "#### Retention calculation function"
   ]
  },
  {
   "cell_type": "markdown",
   "metadata": {},
   "source": [
    "Let's write a function to calculate retention by day.\n"
   ]
  },
  {
   "cell_type": "code",
   "execution_count": 49,
   "metadata": {},
   "outputs": [],
   "source": [
    "\n",
    "# function for calculating retention by day\n",
    "def retention(data, reg_pos=2, auth_pos=0, uid_pos=1, min_date=None, max_date=None):\n",
    "    '''Calculates retention by days from the date of user registration.\n",
    "\n",
    "    Parameters\n",
    "    ----------\n",
    "    data : data frame\n",
    "        Dataframe with data.\n",
    "    reg_pos : int\n",
    "        Column number in the dataframe containing the registration time\n",
    "        (default is 2)\n",
    "    auth_pos : int\n",
    "        Column number in the dataframe containing the entry time\n",
    "        (default is 0)\n",
    "    uid_pos : int\n",
    "        Column number in the dataframe containing the user's uid\n",
    "        (default is 1)\n",
    "    min_date : str\n",
    "        Minimum registration date in 'yyyy-mm-dd' format (including)\n",
    "        (default is None)\n",
    "    max_date : str\n",
    "        Maximum registration date in 'yyyy-mm-dd' format (not including)\n",
    "        (default is None)\n",
    "\n",
    "    returns\n",
    "    -------\n",
    "    data frame\n",
    "        Retention table\n",
    "    '''\n",
    "\n",
    " # make a selection of the desired columns\n",
    "    df = data.iloc[:, [uid_pos, reg_pos, auth_pos]].copy(deep=True)\n",
    "    \n",
    " # checking for availability and determining the min_date parameter\n",
    "    if min_date is None:\n",
    "        min_date = df.reg_ts.min()\n",
    "        \n",
    "   # checking for availability and determining the max_date parameter\n",
    "    if max_date is None:\n",
    "        max_date = df.reg_ts.max()       \n",
    "\n",
    "  # put the dates of registration and entry into the application into separate columns\n",
    "    df['date_reg'] = df.reg_ts.dt.date\n",
    "    df['date_auth'] = df.auth_ts.dt.date\n",
    "    \n",
    "    # make a selection by date range\n",
    "    df = df[(df['reg_ts'] >= min_date) & (df['reg_ts'] <= max_date)]\n",
    "    \n",
    "  \n",
    "    # count the number of days between the date of registration and the entrance to the application\n",
    "    df['days'] = df['date_auth'] - df['date_reg']\n",
    "    \n",
    "    # group by the days of registration and the number of days of use\n",
    "    cohorts = df.groupby(['date_reg', 'days'], as_index=False) \\\n",
    "                  .agg({'uid': 'nunique'})  # aggregate by unique users\n",
    "    # create a pivot table\n",
    "    cohorts_pivot = cohorts.pivot(index='date_reg', columns='days', values='uid')\n",
    "    \n",
    "    # calculate retention\n",
    "    retention = pd.DataFrame()  # empty dataframe to which we will add row by row\n",
    "    for i in range(cohorts_pivot.shape[0]):  # iterate over rows\n",
    "        a = cohorts_pivot.iloc[i, 0]  # 100% number of users for this date\n",
    "        temp = cohorts_pivot.iloc[i, :].divide(a, axis=0).round(4)  #get a percentage conversion\n",
    "        retention = retention.append(temp)  # add the calculated values ​​row by row to the final retention table\n",
    "\n",
    "    return retention"
   ]
  },
  {
   "cell_type": "markdown",
   "metadata": {},
   "source": [
    "#### Функция отображения посчитанного retention"
   ]
  },
  {
   "cell_type": "markdown",
   "metadata": {},
   "source": [
    "Let's write a function to visualize the retention table."
   ]
  },
  {
   "cell_type": "code",
   "execution_count": 57,
   "metadata": {},
   "outputs": [],
   "source": [
    "# function to build the retention table\n",
    "def plot_retention(data, product_lt=10, user_lt=10, savefig=False):\n",
    "     \n",
    "    # select the desired data segment for output\n",
    "    user_lt_lst = [_ for _ in range(user_lt)]\n",
    "    plotting_slice = data.iloc[:product_lt, user_lt_lst]\n",
    "   # drawing the retention table and its design (title, axes, etc.)\n",
    "    plt.figure(figsize=(16,9))\n",
    "    ax = sns.heatmap(data=plotting_slice, fmt=' .2%', cmap='Blues', annot=True)\n",
    "    ax.set_title('Retention Heatmap',fontsize= 18)\n",
    "    xlabels = [f'Day {i}' for i in range(user_lt)]\n",
    "    ax.set_xticklabels(xlabels, rotation=0)\n",
    "    ax.xaxis.tick_top()\n",
    "   \n",
    "     \n",
    "    \n",
    "  # save the heatmap as a jpeg in the working directory\n",
    "    if savefig == True:\n",
    "        start = plotting_slice.index[0].strftime('%y%m%d')\n",
    "        end = plotting_slice.index[plotting_slice.shape[0]-1].strftime('%y%m%d')\n",
    "        plt.savefig(f'retention_{start}_{end}.jpg')"
   ]
  },
  {
   "cell_type": "markdown",
   "metadata": {},
   "source": [
    "#### Проверка результатов работы функций"
   ]
  },
  {
   "cell_type": "markdown",
   "metadata": {},
   "source": [
    "Проверим работу написанных функций и построим heatmap retention для периода с 01.09.2020 по 23.09.2020."
   ]
  },
  {
   "cell_type": "code",
   "execution_count": 50,
   "metadata": {},
   "outputs": [],
   "source": [
    "# посчитаем retention\n",
    "retention_test = retention(data, min_date='2020-09-01', max_date='2020-09-24')"
   ]
  },
  {
   "cell_type": "code",
   "execution_count": 51,
   "metadata": {},
   "outputs": [
    {
     "data": {
      "image/png": "[encoded data removed]",
      "text/plain": [
       "<Figure size 1152x648 with 2 Axes>"
      ]
     },
     "metadata": {
      "needs_background": "light"
     },
     "output_type": "display_data"
    }
   ],
   "source": [
    "# построим heatmap с сохранением результата в jpg файл\n",
    "plot_retention(retention_test, product_lt=23, user_lt=10, savefig=True)"
   ]
  },
  {
   "cell_type": "markdown",
   "metadata": {},
   "source": [
    "The retention calculation and display functions work correctly."
   ]
  },
  {
   "cell_type": "markdown",
   "metadata": {},
   "source": [
    "### 1.5 Results"
   ]
  },
  {
   "cell_type": "markdown",
   "metadata": {},
   "source": [
    "At this stage, two functions were written and documented: calculation and display of the retention table. With the help of function parameters, it is possible to set the range of retention calculation and display dates, as well as give a command to save the final retention table \n",
    "The retention indicator is very important. It can be used to judge the user's involvement in the product, as well as track and predict the dynamics of his behavior. For example, on the September 2020 test data, we see that the user generally starts returning to the game on the second day after registration (registration in this case is day zero). The maximum retention of users occurs on 4-7 days of using the product, after which the retention rate begins to fall. In this regard, it is worth considering promotions and / or new game mechanics that allow you to increase user retention even after the seventh day of using the game from the moment of user registration."
   ]
  },
  {
   "cell_type": "markdown",
   "metadata": {},
   "source": [
    "## 2. A/B testing"
   ]
  },
  {
   "cell_type": "markdown",
   "metadata": {},
   "source": [
    "### 2.1 Task"
   ]
  },
  {
   "cell_type": "markdown",
   "metadata": {},
   "source": [
    "There are results of an A / B test in which two groups of users were offered different sets of promotional offers. It is known that ARPU in the test group is 5% higher than in the control group. At the same time, in the control group, 1928 out of 202103 players turned out to be paying, and in the test group - 1805 out of 202667."
   ]
  },
  {
   "cell_type": "markdown",
   "metadata": {},
   "source": [
    "What set of proposals can be considered the best? What metrics should be analyzed to make the right decision and how?"
   ]
  },
  {
   "cell_type": "markdown",
   "metadata": {},
   "source": [
    "\n",
    "### 2.2 Loading data"
   ]
  },
  {
   "cell_type": "markdown",
   "metadata": {},
   "source": [
    "Let's examine the available data."
   ]
  },
  {
   "cell_type": "markdown",
   "metadata": {},
   "source": [
    "Read the `problem2.csv` file and store it in the ab variable."
   ]
  },
  {
   "cell_type": "code",
   "execution_count": 58,
   "metadata": {},
   "outputs": [],
   "source": [
    "# reading a data file with saving in ab\n",
    "ab = pd.read_csv('problem2.csv', sep=';')"
   ]
  },
  {
   "cell_type": "markdown",
   "metadata": {},
   "source": [
    "Getting the first 10 rows of a table."
   ]
  },
  {
   "cell_type": "code",
   "execution_count": 59,
   "metadata": {},
   "outputs": [
    {
     "data": {
      "text/html": [
       "<div>\n",
       "<style scoped>\n",
       "    .dataframe tbody tr th:only-of-type {\n",
       "        vertical-align: middle;\n",
       "    }\n",
       "\n",
       "    .dataframe tbody tr th {\n",
       "        vertical-align: top;\n",
       "    }\n",
       "\n",
       "    .dataframe thead th {\n",
       "        text-align: right;\n",
       "    }\n",
       "</style>\n",
       "<table border=\"1\" class=\"dataframe\">\n",
       "  <thead>\n",
       "    <tr style=\"text-align: right;\">\n",
       "      <th></th>\n",
       "      <th>user_id</th>\n",
       "      <th>revenue</th>\n",
       "      <th>testgroup</th>\n",
       "    </tr>\n",
       "  </thead>\n",
       "  <tbody>\n",
       "    <tr>\n",
       "      <th>0</th>\n",
       "      <td>1</td>\n",
       "      <td>0</td>\n",
       "      <td>b</td>\n",
       "    </tr>\n",
       "    <tr>\n",
       "      <th>1</th>\n",
       "      <td>2</td>\n",
       "      <td>0</td>\n",
       "      <td>a</td>\n",
       "    </tr>\n",
       "    <tr>\n",
       "      <th>2</th>\n",
       "      <td>3</td>\n",
       "      <td>0</td>\n",
       "      <td>a</td>\n",
       "    </tr>\n",
       "    <tr>\n",
       "      <th>3</th>\n",
       "      <td>4</td>\n",
       "      <td>0</td>\n",
       "      <td>b</td>\n",
       "    </tr>\n",
       "    <tr>\n",
       "      <th>4</th>\n",
       "      <td>5</td>\n",
       "      <td>0</td>\n",
       "      <td>b</td>\n",
       "    </tr>\n",
       "    <tr>\n",
       "      <th>5</th>\n",
       "      <td>6</td>\n",
       "      <td>0</td>\n",
       "      <td>b</td>\n",
       "    </tr>\n",
       "    <tr>\n",
       "      <th>6</th>\n",
       "      <td>7</td>\n",
       "      <td>0</td>\n",
       "      <td>b</td>\n",
       "    </tr>\n",
       "    <tr>\n",
       "      <th>7</th>\n",
       "      <td>8</td>\n",
       "      <td>0</td>\n",
       "      <td>b</td>\n",
       "    </tr>\n",
       "    <tr>\n",
       "      <th>8</th>\n",
       "      <td>9</td>\n",
       "      <td>0</td>\n",
       "      <td>b</td>\n",
       "    </tr>\n",
       "    <tr>\n",
       "      <th>9</th>\n",
       "      <td>10</td>\n",
       "      <td>0</td>\n",
       "      <td>a</td>\n",
       "    </tr>\n",
       "  </tbody>\n",
       "</table>\n",
       "</div>"
      ],
      "text/plain": [
       "   user_id  revenue testgroup\n",
       "0        1        0         b\n",
       "1        2        0         a\n",
       "2        3        0         a\n",
       "3        4        0         b\n",
       "4        5        0         b\n",
       "5        6        0         b\n",
       "6        7        0         b\n",
       "7        8        0         b\n",
       "8        9        0         b\n",
       "9       10        0         a"
      ]
     },
     "execution_count": 59,
     "metadata": {},
     "output_type": "execute_result"
    }
   ],
   "source": [
    "# get the first 10 rows of the table\n",
    "ab.head(10)"
   ]
  },
  {
   "cell_type": "markdown",
   "metadata": {},
   "source": [
    "General information about table data ab."
   ]
  },
  {
   "cell_type": "code",
   "execution_count": 60,
   "metadata": {},
   "outputs": [
    {
     "name": "stdout",
     "output_type": "stream",
     "text": [
      "<class 'pandas.core.frame.DataFrame'>\n",
      "RangeIndex: 404770 entries, 0 to 404769\n",
      "Data columns (total 3 columns):\n",
      " #   Column     Non-Null Count   Dtype \n",
      "---  ------     --------------   ----- \n",
      " 0   user_id    404770 non-null  int64 \n",
      " 1   revenue    404770 non-null  int64 \n",
      " 2   testgroup  404770 non-null  object\n",
      "dtypes: int64(2), object(1)\n",
      "memory usage: 9.3+ MB\n"
     ]
    }
   ],
   "source": [
    "\n",
    "ab.info()"
   ]
  },
  {
   "cell_type": "markdown",
   "metadata": {},
   "source": [
    "Let's consider the received information in more detail."
   ]
  },
  {
   "cell_type": "markdown",
   "metadata": {},
   "source": [
    "In total, the table has 3 columns and 404770 rows. There are two data types: int64 (user_id, revenue) and object (testgroup)."
   ]
  },
  {
   "cell_type": "markdown",
   "metadata": {},
   "source": [
    "Let's take a closer look at which columns in ab contain which information:\n",
    "* user_id - user identifier (user id)\n",
    "* revenue - revenue per user\n",
    "* testgroup - belonging to a control or test group."
   ]
  },
  {
   "cell_type": "markdown",
   "metadata": {},
   "source": [
    "The number of values ​​in the columns is the same, there are no missing values."
   ]
  },
  {
   "cell_type": "markdown",
   "metadata": {},
   "source": [
    "#### Conclusion"
   ]
  },
  {
   "cell_type": "markdown",
   "metadata": {},
   "source": [
    "Each row of the table contains the user id, the revenue received from him and the flag of belonging to the control or test group. There are no gaps in the data."
   ]
  },
  {
   "cell_type": "markdown",
   "metadata": {},
   "source": [
    "The next step will be:\n",
    "* convert user_id to string format (eliminate potential loss of zeros and further possible problems associated with this)\n",
    "* check for duplicate user_id values\n",
    "* check the operation of the split system\n",
    "* Examine data for anomalies (e.g. negative revenues, outliers in revenues, etc.)\n",
    "* test for normal distribution and homogeneity of variances\n",
    "* decide on the choice of a statistical criterion for testing hypotheses."
   ]
  },
  {
   "cell_type": "markdown",
   "metadata": {},
   "source": [
    "### 2.3 Data preprocessing"
   ]
  },
  {
   "cell_type": "markdown",
   "metadata": {},
   "source": [
    "**Convert user_id values ​​to string data format**"
   ]
  },
  {
   "cell_type": "code",
   "execution_count": 61,
   "metadata": {},
   "outputs": [],
   "source": [
    "\n",
    "ab['user_id'] = ab['user_id'].astype('str')"
   ]
  },
  {
   "cell_type": "code",
   "execution_count": 62,
   "metadata": {},
   "outputs": [
    {
     "data": {
      "text/plain": [
       "user_id      object\n",
       "revenue       int64\n",
       "testgroup    object\n",
       "dtype: object"
      ]
     },
     "execution_count": 62,
     "metadata": {},
     "output_type": "execute_result"
    }
   ],
   "source": [
    "# check the correct execution\n",
    "ab.dtypes"
   ]
  },
  {
   "cell_type": "markdown",
   "metadata": {},
   "source": [
    "Converting user_id to string format was successful."
   ]
  },
  {
   "cell_type": "markdown",
   "metadata": {},
   "source": [
    "**Check for duplicate user_id values**"
   ]
  },
  {
   "cell_type": "code",
   "execution_count": 63,
   "metadata": {},
   "outputs": [
    {
     "data": {
      "text/plain": [
       "0"
      ]
     },
     "execution_count": 63,
     "metadata": {},
     "output_type": "execute_result"
    }
   ],
   "source": [
    "\n",
    "ab.user_id.duplicated().sum()"
   ]
  },
  {
   "cell_type": "markdown",
   "metadata": {},
   "source": [
    "Повторного использования user_id не обнаружено."
   ]
  },
  {
   "cell_type": "markdown",
   "metadata": {},
   "source": [
    "**Let's check the uniformity of the distribution of users into the control and test groups**"
   ]
  },
  {
   "cell_type": "code",
   "execution_count": 64,
   "metadata": {},
   "outputs": [
    {
     "data": {
      "image/png": "[encoded data removed]",
      "text/plain": [
       "<Figure size 432x288 with 1 Axes>"
      ]
     },
     "metadata": {},
     "output_type": "display_data"
    }
   ],
   "source": [
    "# grouping by groups\n",
    "ab_counts = ab.groupby('testgroup').count().reset_index()\n",
    "# drawing distribution results\n",
    "\n",
    "plt.pie(ab_counts.revenue, labels=['A: control group', 'B: test group'], autopct='%0.2f%%')\n",
    "plt.figtext(.56, .95,'Distribution of users into control and test groups', fontsize=16, ha='center')\n",
    "plt.axis('equal');"
   ]
  },
  {
   "cell_type": "markdown",
   "metadata": {},
   "source": [
    "The split system worked correctly. We have almost equal number of user groups."
   ]
  },
  {
   "cell_type": "markdown",
   "metadata": {},
   "source": [
    "**Take a look at descriptive revenue statistics by group**"
   ]
  },
  {
   "cell_type": "code",
   "execution_count": 65,
   "metadata": {},
   "outputs": [],
   "source": [
    "# splitting into groups and counting statistics\n",
    "a = ab[ab['testgroup'] == 'a'].revenue.describe()\n",
    "b = ab[ab['testgroup'] == 'b'].revenue.describe()"
   ]
  },
  {
   "cell_type": "code",
   "execution_count": 66,
   "metadata": {},
   "outputs": [
    {
     "data": {
      "text/html": [
       "<div>\n",
       "<style scoped>\n",
       "    .dataframe tbody tr th:only-of-type {\n",
       "        vertical-align: middle;\n",
       "    }\n",
       "\n",
       "    .dataframe tbody tr th {\n",
       "        vertical-align: top;\n",
       "    }\n",
       "\n",
       "    .dataframe thead th {\n",
       "        text-align: right;\n",
       "    }\n",
       "</style>\n",
       "<table border=\"1\" class=\"dataframe\">\n",
       "  <thead>\n",
       "    <tr style=\"text-align: right;\">\n",
       "      <th></th>\n",
       "      <th>revenue A</th>\n",
       "      <th>revenue B</th>\n",
       "    </tr>\n",
       "  </thead>\n",
       "  <tbody>\n",
       "    <tr>\n",
       "      <th>count</th>\n",
       "      <td>202103.000000</td>\n",
       "      <td>202667.000000</td>\n",
       "    </tr>\n",
       "    <tr>\n",
       "      <th>mean</th>\n",
       "      <td>25.413720</td>\n",
       "      <td>26.751287</td>\n",
       "    </tr>\n",
       "    <tr>\n",
       "      <th>std</th>\n",
       "      <td>920.768137</td>\n",
       "      <td>287.324162</td>\n",
       "    </tr>\n",
       "    <tr>\n",
       "      <th>min</th>\n",
       "      <td>0.000000</td>\n",
       "      <td>0.000000</td>\n",
       "    </tr>\n",
       "    <tr>\n",
       "      <th>25%</th>\n",
       "      <td>0.000000</td>\n",
       "      <td>0.000000</td>\n",
       "    </tr>\n",
       "    <tr>\n",
       "      <th>50%</th>\n",
       "      <td>0.000000</td>\n",
       "      <td>0.000000</td>\n",
       "    </tr>\n",
       "    <tr>\n",
       "      <th>75%</th>\n",
       "      <td>0.000000</td>\n",
       "      <td>0.000000</td>\n",
       "    </tr>\n",
       "    <tr>\n",
       "      <th>max</th>\n",
       "      <td>37433.000000</td>\n",
       "      <td>4000.000000</td>\n",
       "    </tr>\n",
       "  </tbody>\n",
       "</table>\n",
       "</div>"
      ],
      "text/plain": [
       "           revenue A      revenue B\n",
       "count  202103.000000  202667.000000\n",
       "mean       25.413720      26.751287\n",
       "std       920.768137     287.324162\n",
       "min         0.000000       0.000000\n",
       "25%         0.000000       0.000000\n",
       "50%         0.000000       0.000000\n",
       "75%         0.000000       0.000000\n",
       "max     37433.000000    4000.000000"
      ]
     },
     "execution_count": 66,
     "metadata": {},
     "output_type": "execute_result"
    }
   ],
   "source": [
    "# collate into one table\n",
    "revenue_stats = pd.concat([a, b], axis=1, keys=['revenue A', 'revenue B'])\n",
    "\n",
    "revenue_stats"
   ]
  },
  {
   "cell_type": "markdown",
   "metadata": {},
   "source": [
    "No negative earnings were found. The maximum values ​​and standard deviations of the samples vary greatly.Отрицательных значений выручки не обнаружено. Максимальные значения и стандартные отклонения выборок сильно различаются."
   ]
  },
  {
   "cell_type": "code",
   "execution_count": 82,
   "metadata": {},
   "outputs": [
    {
     "name": "stdout",
     "output_type": "stream",
     "text": [
      "Average revenue in group B differs by +5.26% from the average revenue in group A.\n"
     ]
    }
   ],
   "source": [
    "# calculating the percentage of average revenue\n",
    "rev_dif = ab[ab['testgroup'] == 'b'].revenue.mean() / ab[ab['testgroup'] == 'a'].revenue.mean()\n",
    "\n",
    "# automation of the difference sign of the average revenue when printing\n",
    "if rev_dif - 1 > 0:\n",
    "    sign = '+'\n",
    "else:\n",
    "    sign = ''\n",
    "\n",
    "print(f'Average revenue in group B differs by {sign}{rev_dif - 1:.2%} from the average revenue in group A.')"
   ]
  },
  {
   "cell_type": "markdown",
   "metadata": {},
   "source": [
    "We will test this difference for statistical significance."
   ]
  },
  {
   "cell_type": "markdown",
   "metadata": {},
   "source": [
    "Let's take a closer look at the distribution of revenue values ​​within groups."
   ]
  },
  {
   "cell_type": "code",
   "execution_count": 83,
   "metadata": {},
   "outputs": [
    {
     "data": {
      "image/png": "[encoded data removed]",
      "text/plain": [
       "<Figure size 432x576 with 3 Axes>"
      ]
     },
     "metadata": {
      "needs_background": "light"
     },
     "output_type": "display_data"
    }
   ],
   "source": [
    "# building a boxplot chart (for revenue)\n",
    "ab.groupby(['testgroup']).boxplot(column='revenue',\n",
    "                                    figsize=(6, 8),\n",
    "                                    layout=(1, 3));\n",
    "\n",
    "plt.figtext(.35, .95,'Distribution of revenue values ​​within groups', fontsize=16, ha='center');"
   ]
  },
  {
   "cell_type": "markdown",
   "metadata": {},
   "source": [
    "In group A, in the region of 37000, a group of anomalous values ​​is concentrated."
   ]
  },
  {
   "cell_type": "markdown",
   "metadata": {},
   "source": [
    "Let's look at the distribution of values ​​(descriptive statistics) for paying users"
   ]
  },
  {
   "cell_type": "code",
   "execution_count": 84,
   "metadata": {},
   "outputs": [],
   "source": [
    "# splitting into groups and counting statistics\n",
    "a_paid = ab[(ab['testgroup'] == 'a') & (ab['revenue'] > 0)].revenue.describe()\n",
    "b_paid = ab[(ab['testgroup'] == 'b') & (ab['revenue'] > 0)].revenue.describe()"
   ]
  },
  {
   "cell_type": "code",
   "execution_count": 85,
   "metadata": {},
   "outputs": [
    {
     "data": {
      "text/html": [
       "<div>\n",
       "<style scoped>\n",
       "    .dataframe tbody tr th:only-of-type {\n",
       "        vertical-align: middle;\n",
       "    }\n",
       "\n",
       "    .dataframe tbody tr th {\n",
       "        vertical-align: top;\n",
       "    }\n",
       "\n",
       "    .dataframe thead th {\n",
       "        text-align: right;\n",
       "    }\n",
       "</style>\n",
       "<table border=\"1\" class=\"dataframe\">\n",
       "  <thead>\n",
       "    <tr style=\"text-align: right;\">\n",
       "      <th></th>\n",
       "      <th>revenue A</th>\n",
       "      <th>revenue B</th>\n",
       "    </tr>\n",
       "  </thead>\n",
       "  <tbody>\n",
       "    <tr>\n",
       "      <th>count</th>\n",
       "      <td>1928.000000</td>\n",
       "      <td>1805.000000</td>\n",
       "    </tr>\n",
       "    <tr>\n",
       "      <th>mean</th>\n",
       "      <td>2663.998444</td>\n",
       "      <td>3003.658172</td>\n",
       "    </tr>\n",
       "    <tr>\n",
       "      <th>std</th>\n",
       "      <td>9049.039763</td>\n",
       "      <td>572.619709</td>\n",
       "    </tr>\n",
       "    <tr>\n",
       "      <th>min</th>\n",
       "      <td>200.000000</td>\n",
       "      <td>2000.000000</td>\n",
       "    </tr>\n",
       "    <tr>\n",
       "      <th>25%</th>\n",
       "      <td>257.000000</td>\n",
       "      <td>2513.000000</td>\n",
       "    </tr>\n",
       "    <tr>\n",
       "      <th>50%</th>\n",
       "      <td>311.000000</td>\n",
       "      <td>3022.000000</td>\n",
       "    </tr>\n",
       "    <tr>\n",
       "      <th>75%</th>\n",
       "      <td>361.000000</td>\n",
       "      <td>3478.000000</td>\n",
       "    </tr>\n",
       "    <tr>\n",
       "      <th>max</th>\n",
       "      <td>37433.000000</td>\n",
       "      <td>4000.000000</td>\n",
       "    </tr>\n",
       "  </tbody>\n",
       "</table>\n",
       "</div>"
      ],
      "text/plain": [
       "          revenue A    revenue B\n",
       "count   1928.000000  1805.000000\n",
       "mean    2663.998444  3003.658172\n",
       "std     9049.039763   572.619709\n",
       "min      200.000000  2000.000000\n",
       "25%      257.000000  2513.000000\n",
       "50%      311.000000  3022.000000\n",
       "75%      361.000000  3478.000000\n",
       "max    37433.000000  4000.000000"
      ]
     },
     "execution_count": 85,
     "metadata": {},
     "output_type": "execute_result"
    }
   ],
   "source": [
    "# collate into one table\n",
    "revenue_paid_stats = pd.concat([a_paid, b_paid], axis=1, keys=['revenue A', 'revenue B'])\n",
    "\n",
    "revenue_paid_stats"
   ]
  },
  {
   "cell_type": "markdown",
   "metadata": {},
   "source": [
    "The groups are very different in most respects. The standard deviations differ by almost 16 times. The median values ​​of the groups differ by about 10 times. "
   ]
  },
  {
   "cell_type": "markdown",
   "metadata": {},
   "source": [
    "Let's take a closer look at the distribution of revenue values ​​within groups for paying users."
   ]
  },
  {
   "cell_type": "code",
   "execution_count": 86,
   "metadata": {},
   "outputs": [
    {
     "data": {
      "image/png": "[encoded data removed]",
      "text/plain": [
       "<Figure size 432x576 with 3 Axes>"
      ]
     },
     "metadata": {
      "needs_background": "light"
     },
     "output_type": "display_data"
    }
   ],
   "source": [
    "# building a boxplot chart (for revenue)\n",
    "ab[ab['revenue'] > 0].groupby(['testgroup']).boxplot(column='revenue',\n",
    "                                    figsize=(6, 8),\n",
    "                                    layout=(1, 3));\n",
    "\n",
    "plt.figtext(.35, .99,'Distribution of revenue values ​​within groups', fontsize=16, ha='center');\n",
    "plt.figtext(.35, .95,'(for paying users)', fontsize=16, ha='center');"
   ]
  },
  {
   "cell_type": "markdown",
   "metadata": {},
   "source": [
    "In group A, in the region of 37000, a group of anomalous values ​​is concentrated. It looks like it's an outlier. Possibly related to a logging error (all these abnormal values ​​are approximately 37000 more than the median values ​​of group A). Either users from the \"ultra-premium\" segment got into group A, and such users did not get into group B, then this will indicate the incorrect operation of the splitting system. It will be necessary to deal with these users separately when we have additional information on them (send a request)."
   ]
  },
  {
   "cell_type": "markdown",
   "metadata": {},
   "source": [
    "For now, let's get rid of these emissions."
   ]
  },
  {
   "cell_type": "code",
   "execution_count": 87,
   "metadata": {},
   "outputs": [],
   "source": [
    "# write values ​​without outliers to a new variable\n",
    "ab_clean = ab.query('revenue < 5000')  # border 5000 determined by the previous boxplot"
   ]
  },
  {
   "cell_type": "code",
   "execution_count": 88,
   "metadata": {},
   "outputs": [],
   "source": [
    "# reset the index\n",
    "ab_clean.reset_index(drop=True, inplace=True)"
   ]
  },
  {
   "cell_type": "code",
   "execution_count": 89,
   "metadata": {},
   "outputs": [
    {
     "data": {
      "text/plain": [
       "123"
      ]
     },
     "execution_count": 89,
     "metadata": {},
     "output_type": "execute_result"
    }
   ],
   "source": [
    "# see the number of cut lines\n",
    "ab.shape[0] - ab_clean.shape[0]"
   ]
  },
  {
   "cell_type": "code",
   "execution_count": 90,
   "metadata": {},
   "outputs": [
    {
     "data": {
      "text/plain": [
       "0.03"
      ]
     },
     "execution_count": 90,
     "metadata": {},
     "output_type": "execute_result"
    }
   ],
   "source": [
    "# number of cut lines as a percentage\n",
    "round((ab.shape[0] - ab_clean.shape[0]) * 100 / ab.shape[0], 2)"
   ]
  },
  {
   "cell_type": "markdown",
   "metadata": {},
   "source": [
    "123 lines with abnormal revenue values ​​were discarded, which is 0.03% of the total number of lines."
   ]
  },
  {
   "cell_type": "markdown",
   "metadata": {},
   "source": [
    "**Take a look at descriptive revenue statistics by group (data without outliers)**"
   ]
  },
  {
   "cell_type": "code",
   "execution_count": 91,
   "metadata": {},
   "outputs": [],
   "source": [
    "# splitting into groups and counting statistics\n",
    "a_clean = ab_clean[ab_clean['testgroup'] == 'a'].revenue.describe()\n",
    "b_clean = ab_clean[ab_clean['testgroup'] == 'b'].revenue.describe()"
   ]
  },
  {
   "cell_type": "code",
   "execution_count": 92,
   "metadata": {},
   "outputs": [
    {
     "data": {
      "text/html": [
       "<div>\n",
       "<style scoped>\n",
       "    .dataframe tbody tr th:only-of-type {\n",
       "        vertical-align: middle;\n",
       "    }\n",
       "\n",
       "    .dataframe tbody tr th {\n",
       "        vertical-align: top;\n",
       "    }\n",
       "\n",
       "    .dataframe thead th {\n",
       "        text-align: right;\n",
       "    }\n",
       "</style>\n",
       "<table border=\"1\" class=\"dataframe\">\n",
       "  <thead>\n",
       "    <tr style=\"text-align: right;\">\n",
       "      <th></th>\n",
       "      <th>revenue A</th>\n",
       "      <th>revenue B</th>\n",
       "    </tr>\n",
       "  </thead>\n",
       "  <tbody>\n",
       "    <tr>\n",
       "      <th>count</th>\n",
       "      <td>201980.000000</td>\n",
       "      <td>202667.000000</td>\n",
       "    </tr>\n",
       "    <tr>\n",
       "      <th>mean</th>\n",
       "      <td>2.702926</td>\n",
       "      <td>26.751287</td>\n",
       "    </tr>\n",
       "    <tr>\n",
       "      <th>std</th>\n",
       "      <td>28.985815</td>\n",
       "      <td>287.324162</td>\n",
       "    </tr>\n",
       "    <tr>\n",
       "      <th>min</th>\n",
       "      <td>0.000000</td>\n",
       "      <td>0.000000</td>\n",
       "    </tr>\n",
       "    <tr>\n",
       "      <th>25%</th>\n",
       "      <td>0.000000</td>\n",
       "      <td>0.000000</td>\n",
       "    </tr>\n",
       "    <tr>\n",
       "      <th>50%</th>\n",
       "      <td>0.000000</td>\n",
       "      <td>0.000000</td>\n",
       "    </tr>\n",
       "    <tr>\n",
       "      <th>75%</th>\n",
       "      <td>0.000000</td>\n",
       "      <td>0.000000</td>\n",
       "    </tr>\n",
       "    <tr>\n",
       "      <th>max</th>\n",
       "      <td>400.000000</td>\n",
       "      <td>4000.000000</td>\n",
       "    </tr>\n",
       "  </tbody>\n",
       "</table>\n",
       "</div>"
      ],
      "text/plain": [
       "           revenue A      revenue B\n",
       "count  201980.000000  202667.000000\n",
       "mean        2.702926      26.751287\n",
       "std        28.985815     287.324162\n",
       "min         0.000000       0.000000\n",
       "25%         0.000000       0.000000\n",
       "50%         0.000000       0.000000\n",
       "75%         0.000000       0.000000\n",
       "max       400.000000    4000.000000"
      ]
     },
     "execution_count": 92,
     "metadata": {},
     "output_type": "execute_result"
    }
   ],
   "source": [
    "# collate into one table\n",
    "revenue_stats_clean = pd.concat([a_clean, b_clean], axis=1, keys=['revenue A', 'revenue B'])\n",
    "\n",
    "revenue_stats_clean"
   ]
  },
  {
   "cell_type": "markdown",
   "metadata": {},
   "source": [
    "No negative earnings were found. The maximum values ​​and standard deviations of the samples differ by about 10 times."
   ]
  },
  {
   "cell_type": "code",
   "execution_count": 93,
   "metadata": {},
   "outputs": [
    {
     "name": "stdout",
     "output_type": "stream",
     "text": [
      "Average revenue in group B differs by +889.72% from the average revenue in group A.\n"
     ]
    }
   ],
   "source": [
    "# calculating the percentage of average revenue\n",
    "rev_dif = ab_clean[ab_clean['testgroup'] == 'b'].revenue.mean() / ab_clean[ab_clean['testgroup'] == 'a'].revenue.mean()\n",
    "\n",
    "# automation of the difference sign of the average revenue when printing\n",
    "if rev_dif - 1 > 0:\n",
    "    sign = '+'\n",
    "else:\n",
    "    sign = ''\n",
    "\n",
    "print(f'Average revenue in group B differs by {sign}{rev_dif - 1:.2%} from the average revenue in group A.')"
   ]
  },
  {
   "cell_type": "markdown",
   "metadata": {},
   "source": [
    "We will test this difference for statistical significance."
   ]
  },
  {
   "cell_type": "markdown",
   "metadata": {},
   "source": [
    "Let's take a closer look at the distribution of revenue values ​​within groups."
   ]
  },
  {
   "cell_type": "code",
   "execution_count": 94,
   "metadata": {},
   "outputs": [
    {
     "data": {
      "image/png": "[encoded data removed]",
      "text/plain": [
       "<Figure size 432x576 with 3 Axes>"
      ]
     },
     "metadata": {
      "needs_background": "light"
     },
     "output_type": "display_data"
    }
   ],
   "source": [
    "# building a boxplot chart (for revenue)\n",
    "ab_clean.groupby(['testgroup']).boxplot(column='revenue',\n",
    "                                    figsize=(6, 8),\n",
    "                                    layout=(1, 3));\n",
    "\n",
    "plt.figtext(.35, .95,'Distribution of revenue values ​​within groups', fontsize=16, ha='center');"
   ]
  },
  {
   "cell_type": "markdown",
   "metadata": {},
   "source": [
    "Outliers are present in both groups. But it is too early to draw conclusions about their nature."
   ]
  },
  {
   "cell_type": "markdown",
   "metadata": {},
   "source": [
    "Let's look at the distribution of values ​​(descriptive statistics) for paying users."
   ]
  },
  {
   "cell_type": "code",
   "execution_count": 95,
   "metadata": {},
   "outputs": [],
   "source": [
    "# splitting into groups and counting statistics\n",
    "a_paid_clean = ab_clean[(ab_clean['testgroup'] == 'a') & (ab_clean['revenue'] > 0)].revenue.describe()\n",
    "b_paid_clean = ab_clean[(ab_clean['testgroup'] == 'b') & (ab_clean['revenue'] > 0)].revenue.describe()"
   ]
  },
  {
   "cell_type": "code",
   "execution_count": 96,
   "metadata": {},
   "outputs": [
    {
     "data": {
      "text/html": [
       "<div>\n",
       "<style scoped>\n",
       "    .dataframe tbody tr th:only-of-type {\n",
       "        vertical-align: middle;\n",
       "    }\n",
       "\n",
       "    .dataframe tbody tr th {\n",
       "        vertical-align: top;\n",
       "    }\n",
       "\n",
       "    .dataframe thead th {\n",
       "        text-align: right;\n",
       "    }\n",
       "</style>\n",
       "<table border=\"1\" class=\"dataframe\">\n",
       "  <thead>\n",
       "    <tr style=\"text-align: right;\">\n",
       "      <th></th>\n",
       "      <th>revenue A</th>\n",
       "      <th>revenue B</th>\n",
       "    </tr>\n",
       "  </thead>\n",
       "  <tbody>\n",
       "    <tr>\n",
       "      <th>count</th>\n",
       "      <td>1805.000000</td>\n",
       "      <td>1805.000000</td>\n",
       "    </tr>\n",
       "    <tr>\n",
       "      <th>mean</th>\n",
       "      <td>302.458172</td>\n",
       "      <td>3003.658172</td>\n",
       "    </tr>\n",
       "    <tr>\n",
       "      <th>std</th>\n",
       "      <td>57.914246</td>\n",
       "      <td>572.619709</td>\n",
       "    </tr>\n",
       "    <tr>\n",
       "      <th>min</th>\n",
       "      <td>200.000000</td>\n",
       "      <td>2000.000000</td>\n",
       "    </tr>\n",
       "    <tr>\n",
       "      <th>25%</th>\n",
       "      <td>254.000000</td>\n",
       "      <td>2513.000000</td>\n",
       "    </tr>\n",
       "    <tr>\n",
       "      <th>50%</th>\n",
       "      <td>305.000000</td>\n",
       "      <td>3022.000000</td>\n",
       "    </tr>\n",
       "    <tr>\n",
       "      <th>75%</th>\n",
       "      <td>352.000000</td>\n",
       "      <td>3478.000000</td>\n",
       "    </tr>\n",
       "    <tr>\n",
       "      <th>max</th>\n",
       "      <td>400.000000</td>\n",
       "      <td>4000.000000</td>\n",
       "    </tr>\n",
       "  </tbody>\n",
       "</table>\n",
       "</div>"
      ],
      "text/plain": [
       "         revenue A    revenue B\n",
       "count  1805.000000  1805.000000\n",
       "mean    302.458172  3003.658172\n",
       "std      57.914246   572.619709\n",
       "min     200.000000  2000.000000\n",
       "25%     254.000000  2513.000000\n",
       "50%     305.000000  3022.000000\n",
       "75%     352.000000  3478.000000\n",
       "max     400.000000  4000.000000"
      ]
     },
     "execution_count": 96,
     "metadata": {},
     "output_type": "execute_result"
    }
   ],
   "source": [
    "# collate into one table\n",
    "revenue_paid_stats_clean = pd.concat([a_paid_clean, b_paid_clean], axis=1, keys=['revenue A', 'revenue B'])\n",
    "\n",
    "revenue_paid_stats_clean"
   ]
  },
  {
   "cell_type": "markdown",
   "metadata": {},
   "source": [
    "The number of paying users in groups is the same. The remaining **all(!)** indicators differ by 10 times. There is a suspicion of the artificial nature of the data of group B by multiplying the data of group A by a constant close to 10. It will be necessary to check this version in a separate study, now we will accept "
   ]
  },
  {
   "cell_type": "markdown",
   "metadata": {},
   "source": [
    "Let's take a closer look at the distribution of revenue values ​​within groups for paying users."
   ]
  },
  {
   "cell_type": "code",
   "execution_count": 97,
   "metadata": {},
   "outputs": [
    {
     "data": {
      "image/png": "[encoded data removed]",
      "text/plain": [
       "<Figure size 432x576 with 3 Axes>"
      ]
     },
     "metadata": {
      "needs_background": "light"
     },
     "output_type": "display_data"
    }
   ],
   "source": [
    "# building a boxplot chart (for revenue)\n",
    "ab_clean[ab_clean['revenue'] > 0].groupby(['testgroup']).boxplot(column='revenue',\n",
    "                                    figsize=(6, 8),\n",
    "                                    layout=(1, 3));\n",
    "\n",
    "plt.figtext(.35, .99,'Distribution of revenue values ​​within groups', fontsize=16, ha='center');\n",
    "plt.figtext(.35, .95,'(for paying users)', fontsize=16, ha='center');"
   ]
  },
  {
   "cell_type": "markdown",
   "metadata": {},
   "source": [
    "There are no outliers in groups A and B."
   ]
  },
  {
   "cell_type": "markdown",
   "metadata": {},
   "source": [
    "**Let's look at the distribution of revenue values ​​among paying users.**"
   ]
  },
  {
   "cell_type": "code",
   "execution_count": 98,
   "metadata": {},
   "outputs": [
    {
     "data": {
      "image/png": "[encoded data removed]",
      "text/plain": [
       "<Figure size 720x360 with 2 Axes>"
      ]
     },
     "metadata": {
      "needs_background": "light"
     },
     "output_type": "display_data"
    }
   ],
   "source": [
    "# mark up space for plotting\n",
    "fig, (ax1, ax2) = plt.subplots(\n",
    "    nrows=1, ncols=2,\n",
    "    figsize=(10, 5)\n",
    ")\n",
    "\n",
    "# distribution histogram group A\n",
    "sns.histplot(data=ab_clean[((ab_clean['testgroup'] == 'a')) & (ab_clean['revenue'] > 0)],\n",
    "            x='revenue', bins=50, \n",
    "            ax=ax1)\n",
    "ax1.set_title('Group A revenue distribution')\n",
    "\n",
    "# distribution histogram group B\n",
    "sns.histplot(data=ab_clean[((ab_clean['testgroup'] == 'b')) & (ab_clean['revenue'] > 0)],\n",
    "            x='revenue', bins=50, color='#FF7F0E',\n",
    "            ax=ax2)\n",
    "ax2.set_title('Group B revenue distribution');"
   ]
  },
  {
   "cell_type": "code",
   "execution_count": 99,
   "metadata": {},
   "outputs": [
    {
     "data": {
      "image/png": "[encoded data removed]",
      "text/plain": [
       "<Figure size 416x360 with 1 Axes>"
      ]
     },
     "metadata": {
      "needs_background": "light"
     },
     "output_type": "display_data"
    }
   ],
   "source": [
    "# display on one chart\n",
    "sns.displot(data=ab_clean[ab_clean['revenue'] > 0], x='revenue', hue='testgroup', bins=100);\n",
    "plt.title('Distribution of revenue within groups A and B');"
   ]
  },
  {
   "cell_type": "markdown",
   "metadata": {},
   "source": [
    "The variance of group B values ​​is much higher."
   ]
  },
  {
   "cell_type": "markdown",
   "metadata": {},
   "source": [
    "**Let's check for normality**"
   ]
  },
  {
   "cell_type": "markdown",
   "metadata": {},
   "source": [
    "Control group A."
   ]
  },
  {
   "cell_type": "code",
   "execution_count": 100,
   "metadata": {},
   "outputs": [
    {
     "name": "stdout",
     "output_type": "stream",
     "text": [
      "test statistic = 0.0930, pvalue = 0.0000e+00\n",
      "The distribution is not normal.\n"
     ]
    }
   ],
   "source": [
    "# Shapiro-Wilk test for normality\n",
    "result = st.shapiro(ab_clean[ab_clean['testgroup'] == 'a'].revenue.sample(1000, random_state=17))  # sample 1000 for test stability\n",
    "alpha = 0.05  # level of statistical significance\n",
    "\n",
    "\n",
    "print('test statistic = {:.4f}, pvalue = {:.4e}'.format(result[0], result[1]))\n",
    "\n",
    "if result[1] > alpha:\n",
    "    print('The distribution is normal.')\n",
    "else:\n",
    "    print('The distribution is not normal.')"
   ]
  },
  {
   "cell_type": "markdown",
   "metadata": {},
   "source": [
    "Control group B."
   ]
  },
  {
   "cell_type": "code",
   "execution_count": 101,
   "metadata": {},
   "outputs": [
    {
     "name": "stdout",
     "output_type": "stream",
     "text": [
      "test statistic = 0.0672, pvalue = 0.0000e+00\n",
      "The distribution is not normal.\n"
     ]
    }
   ],
   "source": [
    "# Shapiro-Wilk test for normality\n",
    "result = st.shapiro(ab_clean[ab_clean['testgroup'] == 'b'].revenue.sample(1000, random_state=17))   # sample 1000 for test stability\n",
    "alpha = 0.05  # level of statistical significance\n",
    "\n",
    "\n",
    "print('test statistic = {:.4f}, pvalue = {:.4e}'.format(result[0], result[1]))\n",
    "\n",
    "if result[1] > alpha:\n",
    "    print('The distribution is normal')\n",
    "else:\n",
    "    print('The distribution is not normal.')"
   ]
  },
  {
   "cell_type": "markdown",
   "metadata": {},
   "source": [
    "**Perform the Levene test for the homogeneity of variances**"
   ]
  },
  {
   "cell_type": "code",
   "execution_count": 103,
   "metadata": {},
   "outputs": [
    {
     "name": "stdout",
     "output_type": "stream",
     "text": [
      "Sample variances are different.\n"
     ]
    }
   ],
   "source": [
    "# form samples for testing\n",
    "sample_1 = ab_clean[ab_clean['testgroup'] == 'a'].revenue\n",
    "sample_2 = ab_clean[ab_clean['testgroup'] == 'b'].revenue\n",
    "\n",
    "alpha = 0.05  # level of statistical significance\n",
    "# if p-value is less than it - reject the hypothesis\n",
    "\n",
    "# test for equality of variances\n",
    "lv = st.levene(sample_1, sample_2)\n",
    "if lv.pvalue > alpha:\n",
    "    param = True\n",
    "    print('Both samples have similar variances')\n",
    "else:\n",
    "    print('Sample variances are different.')\n",
    "    param = False"
   ]
  },
  {
   "cell_type": "markdown",
   "metadata": {},
   "source": [
    "**Perform transformation (data logarithm)*"
   ]
  },
  {
   "cell_type": "markdown",
   "metadata": {},
   "source": [
    "Let's try to transform the data using logarithms in order to achieve a normal distribution of samples."
   ]
  },
  {
   "cell_type": "code",
   "execution_count": 104,
   "metadata": {},
   "outputs": [
    {
     "name": "stderr",
     "output_type": "stream",
     "text": [
      "<ipython-input-104-ade8906cef9f>:2: SettingWithCopyWarning: \n",
      "A value is trying to be set on a copy of a slice from a DataFrame.\n",
      "Try using .loc[row_indexer,col_indexer] = value instead\n",
      "\n",
      "See the caveats in the documentation: https://pandas.pydata.org/pandas-docs/stable/user_guide/indexing.html#returning-a-view-versus-a-copy\n",
      "  ab_clean['rev_log'] = ab_clean['revenue'].apply(lambda x: np.log(x + 0.0001))  # add a constant to \"do not log zeros\"\n",
      "<ipython-input-104-ade8906cef9f>:3: SettingWithCopyWarning: \n",
      "A value is trying to be set on a copy of a slice from a DataFrame.\n",
      "Try using .loc[row_indexer,col_indexer] = value instead\n",
      "\n",
      "See the caveats in the documentation: https://pandas.pydata.org/pandas-docs/stable/user_guide/indexing.html#returning-a-view-versus-a-copy\n",
      "  ab_clean['rev_log'] = np.where(ab_clean['rev_log'] < 0, 0, ab_clean['rev_log'])  # replace back to zeros the prologarithmic values ​​of the constant\n"
     ]
    }
   ],
   "source": [
    "# Take the logarithm of the sample\n",
    "ab_clean['rev_log'] = ab_clean['revenue'].apply(lambda x: np.log(x + 0.0001))  # add a constant to \"do not log zeros\"\n",
    "ab_clean['rev_log'] = np.where(ab_clean['rev_log'] < 0, 0, ab_clean['rev_log'])  # replace back to zeros the prologarithmic values ​​of the constant"
   ]
  },
  {
   "cell_type": "markdown",
   "metadata": {},
   "source": [
    "Let's look at the distribution of revenue values ​​among paying users after taking the logarithm."
   ]
  },
  {
   "cell_type": "code",
   "execution_count": 107,
   "metadata": {},
   "outputs": [
    {
     "data": {
      "image/png": "[encoded data removed]",
      "text/plain": [
       "<Figure size 720x360 with 2 Axes>"
      ]
     },
     "metadata": {
      "needs_background": "light"
     },
     "output_type": "display_data"
    }
   ],
   "source": [
    "# mark up space for plotting\n",
    "fig, (ax1, ax2) = plt.subplots(\n",
    "    nrows=1, ncols=2,\n",
    "    figsize=(10, 5)\n",
    ")\n",
    "\n",
    "# distribution histogram group A\n",
    "sns.histplot(data=ab_clean[((ab_clean['testgroup'] == 'a')) & (ab_clean['revenue'] > 0)],\n",
    "            x='rev_log', bins=50, \n",
    "            ax=ax1)\n",
    "ax1.set_title('Distribution of revenue group A\\n (after logarithm)')\n",
    "\n",
    "# # distribution histogram group B\n",
    "sns.histplot(data=ab_clean[((ab_clean['testgroup'] == 'b')) & (ab_clean['revenue'] > 0)],\n",
    "            x='rev_log', bins=50, color='#FF7F0E',\n",
    "            ax=ax2)\n",
    "ax2.set_title('Revenue distribution group B\\n(after logarithm)');"
   ]
  },
  {
   "cell_type": "markdown",
   "metadata": {},
   "source": [
    "It cannot be said that after taking the logarithm, the distributions have assumed a normal form. To verify this, we will conduct a Shapiro-Wilk test for normality."
   ]
  },
  {
   "cell_type": "markdown",
   "metadata": {},
   "source": [
    "**Let's check for normality after taking the logarithm**"
   ]
  },
  {
   "cell_type": "markdown",
   "metadata": {},
   "source": [
    "Control group A."
   ]
  },
  {
   "cell_type": "code",
   "execution_count": 109,
   "metadata": {},
   "outputs": [
    {
     "name": "stdout",
     "output_type": "stream",
     "text": [
      "test statistic = 0.0929, pvalue = 0.0000e+00\n",
      "The distribution is not  normal.\n"
     ]
    }
   ],
   "source": [
    "# Shapiro-Wilk test for normality\n",
    "result = st.shapiro(ab_clean[ab_clean['testgroup'] == 'a'].rev_log.sample(1000, random_state=17)) \n",
    "alpha = 0.05 # level of statistical significance\n",
    "\n",
    "print('test statistic = {:.4f}, pvalue = {:.4e}'.format(result[0], result[1]))\n",
    "\n",
    "if result[1] > alpha:\n",
    "    print('The distribution is normal.')\n",
    "else:\n",
    "    print('The distribution is not  normal.')"
   ]
  },
  {
   "cell_type": "markdown",
   "metadata": {},
   "source": [
    "\n",
    "Control group B."
   ]
  },
  {
   "cell_type": "code",
   "execution_count": 110,
   "metadata": {},
   "outputs": [
    {
     "name": "stdout",
     "output_type": "stream",
     "text": [
      "test statistic = 0.0666, pvalue = 0.0000e+00\n",
      "The distribution is not  normal.\n"
     ]
    }
   ],
   "source": [
    "# Shapiro-Wilk test for normality\n",
    "result = st.shapiro(ab_clean[ab_clean['testgroup'] == 'b'].rev_log.sample(1000, random_state=17)) # sample 1000 for test stability\n",
    "alpha = 0.05  # level of statistical significance\n",
    "\n",
    "\n",
    "print('test statistic = {:.4f}, pvalue = {:.4e}'.format(result[0], result[1]))\n",
    "\n",
    "if result[1] > alpha:\n",
    "    print('The distribution is normal.')\n",
    "else:\n",
    "    print('The distribution is not  normal.')"
   ]
  },
  {
   "cell_type": "markdown",
   "metadata": {},
   "source": [
    "**Perform the Levene test for the homogeneity of variances**"
   ]
  },
  {
   "cell_type": "code",
   "execution_count": 111,
   "metadata": {},
   "outputs": [
    {
     "name": "stdout",
     "output_type": "stream",
     "text": [
      "Sample variances are different.\n"
     ]
    }
   ],
   "source": [
    "# form samples for testing\n",
    "sample_1 = ab_clean[ab_clean['testgroup'] == 'a'].rev_log\n",
    "sample_2 = ab_clean[ab_clean['testgroup'] == 'b'].rev_log\n",
    "\n",
    "alpha = 0.05 # level of statistical significance\n",
    "# if p-value is less than it - reject the hypothesis\n",
    "\n",
    "# test for equality of variances\n",
    "lv = st.levene(sample_1, sample_2)\n",
    "if lv.pvalue > alpha:\n",
    "    param = True\n",
    "    print('Both samples have similar variances')\n",
    "else:\n",
    "    print('Sample variances are different.')\n",
    "    param = False"
   ]
  },
  {
   "cell_type": "markdown",
   "metadata": {},
   "source": [
    "#### Conclusions"
   ]
  },
  {
   "cell_type": "markdown",
   "metadata": {},
   "source": [
    "The user_id column was converted to a string format, no repeated user_id values ​​were found, the split system identified users in the control and test groups approximately equally. In control group A, 123 abnormal revenue values ​​were found (possibly related to data logging errors of some users).\n",
    "The samples did not pass tests for normality and homogeneity of variances. The performed transformations (logarithm) did not help to cope with this problem. The distributions of the sample values ​​are still not normal, and there is no homogeneity of the variances.\n",
    "\n",
    "We will use the nonparametric Mann-Whitney test to further test the hypotheses."
   ]
  },
  {
   "cell_type": "markdown",
   "metadata": {},
   "source": [
    "At the next stage, we formulate the null and alternative hypotheses and compare the two samples using the nonparametric Mann-Whitney test."
   ]
  },
  {
   "cell_type": "markdown",
   "metadata": {},
   "source": [
    "### 2.4 Hypothesis testing"
   ]
  },
  {
   "cell_type": "markdown",
   "metadata": {},
   "source": [
    "#### Testing the hypothesis about the equality of distributions of user revenue values"
   ]
  },
  {
   "cell_type": "markdown",
   "metadata": {},
   "source": [
    "**Formulate hypotheses:**\n",
    "* *Null hypothesis:* the distribution of revenue per user in the control and test groups is the same.\n",
    "* *Alternative hypothesis:* the distribution of revenue per user values ​​for the control and test groups are different."
   ]
  },
  {
   "cell_type": "markdown",
   "metadata": {},
   "source": [
    "Let's conduct a non-parametric Mann-Whitney test to test hypotheses."
   ]
  },
  {
   "cell_type": "code",
   "execution_count": 112,
   "metadata": {},
   "outputs": [
    {
     "name": "stdout",
     "output_type": "stream",
     "text": [
      "U statistic = 20466331335.0000, pvalue = 8.6757e-01\n",
      "We do not have enough reason to reject the null hypothesis and accept the alternative.\n"
     ]
    }
   ],
   "source": [
    "# U Mann-Whitney test of two distributions of independent samples\n",
    "alpha = 0.05\n",
    "\n",
    "result = st.mannwhitneyu(ab_clean[ab_clean['testgroup'] == 'a'].revenue,\n",
    "                      ab_clean[ab_clean['testgroup'] == 'b'].revenue,\n",
    "                      alternative='two-sided')\n",
    "\n",
    "print('U statistic = {:.4f}, pvalue = {:.4e}'.format(result[0], result[1]))\n",
    "\n",
    "if result.pvalue < 0.05:\n",
    "    print('We reject the null hypothesis that the distributions of the two samples are equal.')\n",
    "else:\n",
    "    print('We do not have enough reason to reject the null hypothesis and accept the alternative.')"
   ]
  },
  {
   "cell_type": "markdown",
   "metadata": {},
   "source": [
    "#### Testing the hypothesis about the equality of distributions of revenue values ​​from a paying user"
   ]
  },
  {
   "cell_type": "markdown",
   "metadata": {},
   "source": [
    "**Formulate hypotheses:**\n",
    "* *Null hypothesis:* the distribution of revenue values ​​from a paying user in the control and test groups is the same.\n",
    "* *Alternative hypothesis:* the distribution of revenue per paying user in the control and test groups is different."
   ]
  },
  {
   "cell_type": "markdown",
   "metadata": {},
   "source": [
    "Let's conduct a non-parametric Mann-Whitney test to test hypotheses."
   ]
  },
  {
   "cell_type": "code",
   "execution_count": 113,
   "metadata": {},
   "outputs": [
    {
     "name": "stdout",
     "output_type": "stream",
     "text": [
      "U statistic = 0.0000, pvalue = 0.0000e+00\n",
      "We reject the null hypothesis that the distributions of the two samples are equal.\n"
     ]
    }
   ],
   "source": [
    "# U Mann-Whitney test of two distributions of independent samples\n",
    "alpha = 0.05\n",
    "\n",
    "result = st.mannwhitneyu(ab_clean[(ab_clean['testgroup'] == 'a') & (ab_clean['revenue'] > 0)].revenue,\n",
    "                      ab_clean[(ab_clean['testgroup'] == 'b') & (ab_clean['revenue'] > 0)].revenue,\n",
    "                      alternative='two-sided')\n",
    "\n",
    "print('U statistic = {:.4f}, pvalue = {:.4e}'.format(result[0], result[1]))\n",
    "\n",
    "if result.pvalue < 0.05:\n",
    "    print('We reject the null hypothesis that the distributions of the two samples are equal.')\n",
    "else:\n",
    "    print('We do not have enough reason to reject the null hypothesis and accept the alternative.')"
   ]
  },
  {
   "cell_type": "markdown",
   "metadata": {},
   "source": [
    "#### Testing the hypothesis about the change in conversion to purchase"
   ]
  },
  {
   "cell_type": "markdown",
   "metadata": {},
   "source": [
    "**Formulate hypotheses:**\n",
    "* *Null hypothesis:* the conversion to purchase of the control and test groups are the same.\n",
    "* *Alternative hypothesis:* the conversion to purchase of the control and test groups are different."
   ]
  },
  {
   "cell_type": "code",
   "execution_count": 114,
   "metadata": {},
   "outputs": [
    {
     "name": "stderr",
     "output_type": "stream",
     "text": [
      "<ipython-input-114-d6871d91fedd>:2: SettingWithCopyWarning: \n",
      "A value is trying to be set on a copy of a slice from a DataFrame.\n",
      "Try using .loc[row_indexer,col_indexer] = value instead\n",
      "\n",
      "See the caveats in the documentation: https://pandas.pydata.org/pandas-docs/stable/user_guide/indexing.html#returning-a-view-versus-a-copy\n",
      "  ab_clean['conversion'] = ab_clean['revenue'].apply(lambda x: 0 if x == 0 else 1)\n"
     ]
    },
    {
     "data": {
      "text/html": [
       "<div>\n",
       "<style scoped>\n",
       "    .dataframe tbody tr th:only-of-type {\n",
       "        vertical-align: middle;\n",
       "    }\n",
       "\n",
       "    .dataframe tbody tr th {\n",
       "        vertical-align: top;\n",
       "    }\n",
       "\n",
       "    .dataframe thead th {\n",
       "        text-align: right;\n",
       "    }\n",
       "</style>\n",
       "<table border=\"1\" class=\"dataframe\">\n",
       "  <thead>\n",
       "    <tr style=\"text-align: right;\">\n",
       "      <th></th>\n",
       "      <th>user_id</th>\n",
       "      <th>revenue</th>\n",
       "      <th>testgroup</th>\n",
       "      <th>rev_log</th>\n",
       "      <th>conversion</th>\n",
       "    </tr>\n",
       "  </thead>\n",
       "  <tbody>\n",
       "    <tr>\n",
       "      <th>0</th>\n",
       "      <td>1</td>\n",
       "      <td>0</td>\n",
       "      <td>b</td>\n",
       "      <td>0.000000</td>\n",
       "      <td>0</td>\n",
       "    </tr>\n",
       "    <tr>\n",
       "      <th>1</th>\n",
       "      <td>2</td>\n",
       "      <td>0</td>\n",
       "      <td>a</td>\n",
       "      <td>0.000000</td>\n",
       "      <td>0</td>\n",
       "    </tr>\n",
       "    <tr>\n",
       "      <th>2</th>\n",
       "      <td>3</td>\n",
       "      <td>0</td>\n",
       "      <td>a</td>\n",
       "      <td>0.000000</td>\n",
       "      <td>0</td>\n",
       "    </tr>\n",
       "    <tr>\n",
       "      <th>3</th>\n",
       "      <td>4</td>\n",
       "      <td>0</td>\n",
       "      <td>b</td>\n",
       "      <td>0.000000</td>\n",
       "      <td>0</td>\n",
       "    </tr>\n",
       "    <tr>\n",
       "      <th>4</th>\n",
       "      <td>5</td>\n",
       "      <td>0</td>\n",
       "      <td>b</td>\n",
       "      <td>0.000000</td>\n",
       "      <td>0</td>\n",
       "    </tr>\n",
       "    <tr>\n",
       "      <th>...</th>\n",
       "      <td>...</td>\n",
       "      <td>...</td>\n",
       "      <td>...</td>\n",
       "      <td>...</td>\n",
       "      <td>...</td>\n",
       "    </tr>\n",
       "    <tr>\n",
       "      <th>404642</th>\n",
       "      <td>404766</td>\n",
       "      <td>0</td>\n",
       "      <td>a</td>\n",
       "      <td>0.000000</td>\n",
       "      <td>0</td>\n",
       "    </tr>\n",
       "    <tr>\n",
       "      <th>404643</th>\n",
       "      <td>404767</td>\n",
       "      <td>0</td>\n",
       "      <td>b</td>\n",
       "      <td>0.000000</td>\n",
       "      <td>0</td>\n",
       "    </tr>\n",
       "    <tr>\n",
       "      <th>404644</th>\n",
       "      <td>404768</td>\n",
       "      <td>231</td>\n",
       "      <td>a</td>\n",
       "      <td>5.442418</td>\n",
       "      <td>1</td>\n",
       "    </tr>\n",
       "    <tr>\n",
       "      <th>404645</th>\n",
       "      <td>404769</td>\n",
       "      <td>0</td>\n",
       "      <td>a</td>\n",
       "      <td>0.000000</td>\n",
       "      <td>0</td>\n",
       "    </tr>\n",
       "    <tr>\n",
       "      <th>404646</th>\n",
       "      <td>404770</td>\n",
       "      <td>0</td>\n",
       "      <td>b</td>\n",
       "      <td>0.000000</td>\n",
       "      <td>0</td>\n",
       "    </tr>\n",
       "  </tbody>\n",
       "</table>\n",
       "<p>404647 rows × 5 columns</p>\n",
       "</div>"
      ],
      "text/plain": [
       "       user_id  revenue testgroup   rev_log  conversion\n",
       "0            1        0         b  0.000000           0\n",
       "1            2        0         a  0.000000           0\n",
       "2            3        0         a  0.000000           0\n",
       "3            4        0         b  0.000000           0\n",
       "4            5        0         b  0.000000           0\n",
       "...        ...      ...       ...       ...         ...\n",
       "404642  404766        0         a  0.000000           0\n",
       "404643  404767        0         b  0.000000           0\n",
       "404644  404768      231         a  5.442418           1\n",
       "404645  404769        0         a  0.000000           0\n",
       "404646  404770        0         b  0.000000           0\n",
       "\n",
       "[404647 rows x 5 columns]"
      ]
     },
     "execution_count": 114,
     "metadata": {},
     "output_type": "execute_result"
    }
   ],
   "source": [
    "# assign a flag for the conversion (0 - no conversion, 1 - there is a conversion)\n",
    "ab_clean['conversion'] = ab_clean['revenue'].apply(lambda x: 0 if x == 0 else 1)\n",
    "\n",
    "ab_clean"
   ]
  },
  {
   "cell_type": "code",
   "execution_count": 115,
   "metadata": {},
   "outputs": [
    {
     "name": "stdout",
     "output_type": "stream",
     "text": [
      "Purchase conversion for the control group is 0.894%.\n"
     ]
    }
   ],
   "source": [
    "# calculate the conversion for the control group\n",
    "a_conv = round(ab_clean[ab_clean['testgroup'] == 'a'].conversion \\\n",
    "      .value_counts(normalize=True)[1] * 100, 3)\n",
    "\n",
    "print(f'Purchase conversion for the control group is {a_conv}%.')"
   ]
  },
  {
   "cell_type": "code",
   "execution_count": 116,
   "metadata": {},
   "outputs": [
    {
     "name": "stdout",
     "output_type": "stream",
     "text": [
      "Purchase conversion for the control group is  0.891%.\n"
     ]
    }
   ],
   "source": [
    "# calculate the conversion for the control group\n",
    "b_conv = round(ab_clean[ab_clean['testgroup'] == 'b'].conversion \\\n",
    "      .value_counts(normalize=True)[1] * 100, 3)\n",
    "\n",
    "print(f'Purchase conversion for the control group is  {b_conv}%.')"
   ]
  },
  {
   "cell_type": "markdown",
   "metadata": {},
   "source": [
    "Let's conduct a Z-test for two samples with a Bernoulli distribution."
   ]
  },
  {
   "cell_type": "code",
   "execution_count": 117,
   "metadata": {},
   "outputs": [
    {
     "name": "stdout",
     "output_type": "stream",
     "text": [
      "zscore = -0.1025, pvalue = 9.1839e-01\n",
      "It was not possible to reject the null hypothesis about the equality of purchase conversions in the test and control groups and obtain a statistically significant result.\n"
     ]
    }
   ],
   "source": [
    "alpha = 0.05  # level of statistical significance\n",
    "\n",
    "control = ab_clean[ab_clean['testgroup'] == 'a'].conversion\n",
    "test = ab_clean[ab_clean['testgroup'] == 'b'].conversion\n",
    "\n",
    "zscore, pvalue = proportions_ztest([sum(test), sum(control)], [len(test), len(control)],\n",
    "                                   alternative = 'two-sided')\n",
    "print('zscore = {:.4f}, pvalue = {:.4e}'.format(zscore, pvalue))\n",
    "\n",
    "if pvalue <= alpha:\n",
    "    print('The test result is statistically significant.')\n",
    "    if test.mean() > control.mean():\n",
    "        print('Purchase conversion increased in the test group.')\n",
    "    else:\n",
    "        print('Conversion to purchase in the test group did not increase.')\n",
    "else:\n",
    "    print('It was not possible to reject the null hypothesis about the equality of purchase conversions in the test and control groups and obtain a statistically significant result.')"
   ]
  },
  {
   "cell_type": "markdown",
   "metadata": {},
   "source": [
    "#### Validate the results by running bootstrap"
   ]
  },
  {
   "cell_type": "markdown",
   "metadata": {},
   "source": [
    "A function to execute and render bootstrap results."
   ]
  },
  {
   "cell_type": "code",
   "execution_count": 119,
   "metadata": {},
   "outputs": [],
   "source": [
    "def get_bootstrap(data_column_1, data_column_2, boot_it = 1000,\n",
    "    statistic = np.mean, bootstrap_conf_level = 0.95):\n",
    "    '''Run bootstrap and render the results.\n",
    "\n",
    "    Parameters\n",
    "    ----------\n",
    "    data_column_1 : pd.Series\n",
    "        The numeric values ​​of the first sample.\n",
    "    data_column_2 : pd.Series\n",
    "        The numeric values ​​of the second sample.\n",
    "    boot_it : int\n",
    "        The number of bootstrap subsamples.\n",
    "        (default is 1000)\n",
    "    statistic : numpy function\n",
    "        Statistics we are interested in to apply\n",
    "        (default is np.mean)\n",
    "    bootstrap_conf_level : float\n",
    "        confidence interval.\n",
    "        (default is 0.95)\n",
    "\n",
    "    returns\n",
    "    -------\n",
    "    plotted histogram of boot_data\n",
    "        Bootstrapped data histogram\n",
    "    'boot_data':\n",
    "        boot_data\n",
    "    'quants':\n",
    "        quants\n",
    "    'p_value':\n",
    "        p_value\n",
    "    '''\n",
    "    \n",
    "    boot_len = max(len(data_column_1), len(data_column_2))\n",
    "    boot_data = []\n",
    "    for i in tqdm(range(boot_it)): # extract subsamples\n",
    "        samples_1 = data_column_1.sample(\n",
    "            boot_len, \n",
    "            replace = True # return parameter\n",
    "        ).values\n",
    "        \n",
    "        samples_2 = data_column_2.sample(\n",
    "            boot_len, \n",
    "            replace = True\n",
    "        ).values\n",
    "        \n",
    "        boot_data.append(statistic(samples_1-samples_2)) # apply statistics\n",
    "    pd_boot_data = pd.DataFrame(boot_data)\n",
    "        \n",
    "    left_quant = (1 - bootstrap_conf_level)/2\n",
    "    right_quant = 1 - (1 - bootstrap_conf_level) / 2\n",
    "    quants = pd_boot_data.quantile([left_quant, right_quant])\n",
    "        \n",
    "    p_1 = st.norm.cdf(\n",
    "        x = 0, \n",
    "        loc = np.mean(boot_data), \n",
    "        scale = np.std(boot_data)\n",
    "    )\n",
    "    p_2 = st.norm.cdf(\n",
    "        x = 0, \n",
    "        loc = -np.mean(boot_data), \n",
    "        scale = np.std(boot_data)\n",
    "    )\n",
    "    p_value = min(p_1, p_2) * 2\n",
    "        \n",
    "#Visualization\n",
    "    _, _, bars = plt.hist(pd_boot_data[0], bins = 50)\n",
    "    for bar in bars:\n",
    "        if abs(bar.get_x()) <= quants.iloc[0][0] or abs(bar.get_x()) >= quants.iloc[1][0]:\n",
    "            bar.set_facecolor('red')\n",
    "        else: \n",
    "            bar.set_facecolor('grey')\n",
    "            bar.set_edgecolor('black')\n",
    "    \n",
    "    plt.style.use('ggplot')\n",
    "    plt.vlines(quants,ymin=0,ymax=50,linestyle='--')\n",
    "    plt.xlabel('boot_data')\n",
    "    plt.ylabel('frequency')\n",
    "    plt.title('Histogram of boot_data')\n",
    "    plt.rcParams['figure.figsize'] = (12,8);\n",
    "    plt.show()\n",
    "       \n",
    "    return {'boot_data': boot_data, \n",
    "            'quants': quants, \n",
    "            'p_value': p_value}"
   ]
  },
  {
   "cell_type": "markdown",
   "metadata": {},
   "source": [
    "**Run Bootstrap to compare Average Revenue Per User (ARPU).**"
   ]
  },
  {
   "cell_type": "markdown",
   "metadata": {},
   "source": [
    "**Formulate hypotheses:**\n",
    "* *Null hypothesis:* the average revenue per user (ARPU) in the control and test groups is the same.\n",
    "* *Alternative hypothesis:* The average revenue per user (ARPU) in the control and test groups is different."
   ]
  },
  {
   "cell_type": "code",
   "execution_count": 120,
   "metadata": {},
   "outputs": [
    {
     "data": {
      "application/vnd.jupyter.widget-view+json": {
       "model_id": "618127d82a584f0286dc60751bec1730",
       "version_major": 2,
       "version_minor": 0
      },
      "text/plain": [
       "  0%|          | 0/1000 [00:00<?, ?it/s]"
      ]
     },
     "metadata": {},
     "output_type": "display_data"
    },
    {
     "data": {
      "image/png": "[encoded data removed]",
      "text/plain": [
       "<Figure size 432x288 with 1 Axes>"
      ]
     },
     "metadata": {
      "needs_background": "light"
     },
     "output_type": "display_data"
    }
   ],
   "source": [
    "# run bootstrap\n",
    "arpu_mean = get_bootstrap(ab_clean[ab_clean['testgroup'] == 'a'].revenue,\n",
    "                          ab_clean[ab_clean['testgroup'] == 'b'].revenue,\n",
    "                          statistic=np.mean)"
   ]
  },
  {
   "cell_type": "markdown",
   "metadata": {},
   "source": [
    "The confidence interval does not fall into zero, the histogram \"painted over\" --> we have reason to reject the null hypothesis and accept the alternative one."
   ]
  },
  {
   "cell_type": "markdown",
   "metadata": {},
   "source": [
    "**Run Bootstrap to compare Average Revenue Per Paying User (ARPPU).**"
   ]
  },
  {
   "cell_type": "markdown",
   "metadata": {},
   "source": [
    "**Formulate hypotheses:**\n",
    "* *Null Hypothesis:* The average revenue per paying user (ARPPU) is the same in the control and test groups.\n",
    "* *Alternative hypothesis:* The average revenue per paying user (ARPPU) differs between the control and test groups."
   ]
  },
  {
   "cell_type": "code",
   "execution_count": 121,
   "metadata": {},
   "outputs": [
    {
     "data": {
      "application/vnd.jupyter.widget-view+json": {
       "model_id": "19d155c406674dc6a11e8def5658d38d",
       "version_major": 2,
       "version_minor": 0
      },
      "text/plain": [
       "  0%|          | 0/1000 [00:00<?, ?it/s]"
      ]
     },
     "metadata": {},
     "output_type": "display_data"
    },
    {
     "data": {
      "image/png": "[encoded data removed]",
      "text/plain": [
       "<Figure size 864x576 with 1 Axes>"
      ]
     },
     "metadata": {},
     "output_type": "display_data"
    }
   ],
   "source": [
    "# run bootstrap\n",
    "arppu_mean = get_bootstrap(ab_clean[(ab_clean['testgroup'] == 'a') & (ab_clean['revenue'] > 0)].revenue,\n",
    "                          ab_clean[(ab_clean['testgroup'] == 'b') & (ab_clean['revenue'] > 0)].revenue,\n",
    "                          statistic=np.mean)"
   ]
  },
  {
   "cell_type": "markdown",
   "metadata": {},
   "source": [
    "The confidence interval does not fall into zero, the histogram \"painted over\" --> we have reason to reject the null hypothesis and accept the alternative one."
   ]
  },
  {
   "cell_type": "markdown",
   "metadata": {},
   "source": [
    "#### Conclusion"
   ]
  },
  {
   "cell_type": "markdown",
   "metadata": {},
   "source": [
    "Five different hypotheses were tested as part of the A/B test. As a result, conversion to purchase and equality of distributions of revenue per user in the test and control groups do not have statistically significant differences, while ARPU, ARPPU, and distributions of revenue from paying users in the test and control groups are statistically significantly different."
   ]
  }
 ],
 "metadata": {
  "kernelspec": {
   "display_name": "Python 3",
   "language": "python",
   "name": "python3"
  },
  "language_info": {
   "codemirror_mode": {
    "name": "ipython",
    "version": 3
   },
   "file_extension": ".py",
   "mimetype": "text/x-python",
   "name": "python",
   "nbconvert_exporter": "python",
   "pygments_lexer": "ipython3",
   "version": "3.8.8"
  }
 },
 "nbformat": 4,
 "nbformat_minor": 4
}
